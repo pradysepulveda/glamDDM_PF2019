{
 "cells": [
  {
   "cell_type": "markdown",
   "metadata": {},
   "source": [
    "# Bar plots for model comparison (31 subjects)"
   ]
  },
  {
   "cell_type": "code",
   "execution_count": 1,
   "metadata": {},
   "outputs": [
    {
     "name": "stdout",
     "output_type": "stream",
     "text": [
      "Populating the interactive namespace from numpy and matplotlib\n"
     ]
    },
    {
     "name": "stderr",
     "output_type": "stream",
     "text": [
      "/anaconda3/lib/python3.7/site-packages/IPython/core/magics/pylab.py:160: UserWarning: pylab import has clobbered these variables: ['pylab', 'copy']\n",
      "`%matplotlib` prevents importing * from pylab and numpy\n",
      "  \"\\n`%matplotlib` prevents importing * from pylab and numpy\"\n"
     ]
    }
   ],
   "source": [
    "import glam\n",
    "import pandas as pd\n",
    "import numpy as np\n",
    "import os.path\n",
    "import numpy\n",
    "import statistics \n",
    "\n",
    "import numpy as np\n",
    "import pandas as pd\n",
    "from pandas.core.frame import DataFrame as DF\n",
    "import seaborn as sns\n",
    "sns.set(color_codes=True)\n",
    "#np.random.seed(sum(map(ord, \"distributions\")))\n",
    "from sklearn import linear_model  # packages for the logistic regression function to plot the logistic regression \n",
    "from sklearn.linear_model import LogisticRegression # packages for the logistic regression function to plot the logistic regression \n",
    "import scipy\n",
    "from scipy import stats, integrate\n",
    "from scipy.stats import mode\n",
    "from scipy.stats.stats import pearsonr # Pearson's correlation\n",
    "from copy import copy as copy\n",
    "import operator as operator\n",
    "import pylab\n",
    "\n",
    "# Plotting tools\n",
    "%matplotlib inline\n",
    "import matplotlib.pyplot as plt\n",
    "import matplotlib.gridspec as gridspec\n",
    "import matplotlib.patches as mpatches\n",
    "from matplotlib.ticker import FuncFormatter\n",
    "from mpl_toolkits.mplot3d import Axes3D\n",
    "from matplotlib import cm\n",
    "%pylab inline\n",
    "figsize(5, 5)\n",
    "\n",
    "import glob\n",
    "import os\n",
    "\n"
   ]
  },
  {
   "cell_type": "code",
   "execution_count": 2,
   "metadata": {},
   "outputs": [],
   "source": [
    "# Define the values of the LOO for the models\n",
    "# LOO_r(LOO= ... , LOO_se= ... , p_LOO= ... , shape_warn = 1)"
   ]
  },
  {
   "cell_type": "code",
   "execution_count": 3,
   "metadata": {},
   "outputs": [],
   "source": [
    "D_Inv_Full = np.load(str('results/loo/glam_FF2018_full_Dislike_NoBin_Dislike_NUTS_Inv_31.npy'))\n",
    "D_Full = np.load(str('results/loo/glam_FF2018_full_Dislike_NoBin_Dislike_NUTS_31.npy'))\n",
    "D_NoBias = np.load(str('results/loo/glam_FF2018_nobias_Dislike_NoBin_Dislike_NUTS_31.npy'))\n",
    "D_Inv_NoBias = np.load(str('results/loo/glam_FF2018_nobias_Dislike_NoBin_Dislike_NUTS_Inv_31.npy'))\n",
    "\n",
    "L_Full = np.load(str('results/loo/glam_FF2018_full_Like_NoBin_NUTS_31.npy'))\n",
    "L_NoBias = np.load(str('results/loo/glam_FF2018_nobias_Like_NoBin_NUTS_31.npy'))\n"
   ]
  },
  {
   "cell_type": "code",
   "execution_count": 4,
   "metadata": {},
   "outputs": [],
   "source": [
    "# Load LOO-score\n",
    "Models_LOO = [L_Full[0], L_NoBias[0], D_Inv_Full[0], D_Full[0], D_Inv_NoBias[0] ,D_NoBias[0] ]\n",
    "x = np.arange(len(Models_LOO))"
   ]
  },
  {
   "cell_type": "code",
   "execution_count": 5,
   "metadata": {},
   "outputs": [
    {
     "data": {
      "image/png": "[encoded data removed]",
      "text/plain": [
       "<Figure size 720x360 with 1 Axes>"
      ]
     },
     "metadata": {
      "needs_background": "light"
     },
     "output_type": "display_data"
    }
   ],
   "source": [
    "fig, ax = plt.subplots(1,1,figsize=(10,5))\n",
    "ax.set_facecolor('xkcd:white')\n",
    "plt.bar(x, Models_LOO, color=['#4F6A9A', '#4F6A9A', '#AC5255', '#AC5255', '#AC5255', '#AC5255'])\n",
    "plt.xticks(x, ('Full', 'No Bias', 'Inv Full', 'Full', 'Inv No Bias', 'No Bias'))\n",
    "plt.ylim(30000, 38000)\n",
    "plt.ylabel('LOO score')\n",
    "\n",
    "like_patch = mpatches.Patch(color='#4F6A9A', label='Like')\n",
    "dislike_patch = mpatches.Patch(color='#AC5255', label='Dislike')\n",
    "leg = plt.legend(handles=[like_patch,dislike_patch])\n",
    "leg.get_frame().set_facecolor('none')\n",
    "leg.get_frame().set_linewidth(0.0)\n",
    "plt.show()\n",
    "\n",
    "fig.savefig(str('SavedFigures/GLAMModelComparison_31.png'), dpi = 200 )"
   ]
  },
  {
   "cell_type": "code",
   "execution_count": 6,
   "metadata": {},
   "outputs": [
    {
     "data": {
      "text/plain": [
       "[32653.366046821335,\n",
       " 40281.2418005269,\n",
       " 33159.761398499584,\n",
       " 33745.28719580941,\n",
       " 33825.15027379092,\n",
       " 34331.85370570306]"
      ]
     },
     "execution_count": 6,
     "metadata": {},
     "output_type": "execute_result"
    }
   ],
   "source": [
    "Models_LOO"
   ]
  },
  {
   "cell_type": "code",
   "execution_count": null,
   "metadata": {},
   "outputs": [],
   "source": []
  }
 ],
 "metadata": {
  "kernelspec": {
   "display_name": "Python 3",
   "language": "python",
   "name": "python3"
  },
  "language_info": {
   "codemirror_mode": {
    "name": "ipython",
    "version": 3
   },
   "file_extension": ".py",
   "mimetype": "text/x-python",
   "name": "python",
   "nbconvert_exporter": "python",
   "pygments_lexer": "ipython3",
   "version": "3.7.0"
  }
 },
 "nbformat": 4,
 "nbformat_minor": 2
}
