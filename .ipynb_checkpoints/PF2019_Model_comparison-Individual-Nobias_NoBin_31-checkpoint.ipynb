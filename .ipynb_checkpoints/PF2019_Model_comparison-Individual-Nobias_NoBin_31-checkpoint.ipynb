{
 "cells": [
  {
   "cell_type": "markdown",
   "metadata": {},
   "source": [
    "# Bar plots for model comparison (31 subjects), without no bias"
   ]
  },
  {
   "cell_type": "code",
   "execution_count": 1,
   "metadata": {},
   "outputs": [
    {
     "name": "stdout",
     "output_type": "stream",
     "text": [
      "Populating the interactive namespace from numpy and matplotlib\n"
     ]
    },
    {
     "name": "stderr",
     "output_type": "stream",
     "text": [
      "/anaconda3/lib/python3.7/site-packages/IPython/core/magics/pylab.py:160: UserWarning: pylab import has clobbered these variables: ['copy', 'pylab']\n",
      "`%matplotlib` prevents importing * from pylab and numpy\n",
      "  \"\\n`%matplotlib` prevents importing * from pylab and numpy\"\n"
     ]
    }
   ],
   "source": [
    "import glam\n",
    "import pandas as pd\n",
    "import numpy as np\n",
    "import os.path\n",
    "import numpy\n",
    "import statistics \n",
    "\n",
    "import numpy as np\n",
    "import pandas as pd\n",
    "from pandas.core.frame import DataFrame as DF\n",
    "import seaborn as sns\n",
    "sns.set(color_codes=True)\n",
    "#np.random.seed(sum(map(ord, \"distributions\")))\n",
    "from sklearn import linear_model  # packages for the logistic regression function to plot the logistic regression \n",
    "from sklearn.linear_model import LogisticRegression # packages for the logistic regression function to plot the logistic regression \n",
    "import scipy\n",
    "from scipy import stats, integrate\n",
    "from scipy.stats import mode\n",
    "from scipy.stats.stats import pearsonr # Pearson's correlation\n",
    "from copy import copy as copy\n",
    "import operator as operator\n",
    "import pylab\n",
    "\n",
    "# Plotting tools\n",
    "%matplotlib inline\n",
    "import matplotlib.pyplot as plt\n",
    "import matplotlib.gridspec as gridspec\n",
    "import matplotlib.patches as mpatches\n",
    "from matplotlib.ticker import FuncFormatter\n",
    "from mpl_toolkits.mplot3d import Axes3D\n",
    "from matplotlib import cm\n",
    "%pylab inline\n",
    "figsize(5, 5)\n",
    "\n",
    "import glob\n",
    "import os\n",
    "\n"
   ]
  },
  {
   "cell_type": "markdown",
   "metadata": {},
   "source": [
    "# Define the values of  WAIC for the models\n"
   ]
  },
  {
   "cell_type": "code",
   "execution_count": 8,
   "metadata": {},
   "outputs": [],
   "source": [
    "D_Inv_Full1 = np.load(str('results/waic/glam_FF2019_full_individual_Dislike_Inv_NoBin_Gamma-11_NUTS_31.npy'))\n",
    "D_Full1 = np.load(str('results/waic/glam_FF2019_full_individual_Dislike_NoBin_Gamma-11_NUTS_31.npy'))\n",
    "D_NoBias1 = np.load(str('results/waic/glam_FF2019_nobias_individual_Dislike_NoBin_Gamma-11_NUTS_31.npy'))\n",
    "D_Inv_NoBias1 = np.load(str('results/waic/glam_FF2019_nobias_individual_Dislike_Inv_NoBin_Gamma-11_NUTS_31.npy'))\n",
    "\n",
    "L_Full1 = np.load(str('results/waic/glam_FF2019_full_individual_Like_NoBin_Gamma-11_NUTS_31.npy'))\n",
    "L_NoBias1 = np.load(str('results/waic/glam_FF2019_nobias_individual_Like_NoBin_Gamma-11_NUTS_31.npy'))\n"
   ]
  },
  {
   "cell_type": "code",
   "execution_count": 9,
   "metadata": {},
   "outputs": [
    {
     "data": {
      "text/plain": [
       "1810.220350332098"
      ]
     },
     "execution_count": 9,
     "metadata": {},
     "output_type": "execute_result"
    }
   ],
   "source": [
    "D_Inv_Full1[1][0]"
   ]
  },
  {
   "cell_type": "code",
   "execution_count": 10,
   "metadata": {},
   "outputs": [],
   "source": [
    "# extract waic values\n",
    "D_Inv_Full = []\n",
    "D_Full = []\n",
    "D_NoBias = []\n",
    "D_Inv_NoBias = []\n",
    "\n",
    "L_Full = []\n",
    "L_NoBias = []\n",
    "for i in range(len(D_Inv_Full1)):\n",
    "    D_Inv_Full.append(D_Inv_Full1[i][0]) \n",
    "    D_Full.append(D_Full1[i][0])\n",
    "    D_NoBias.append(D_NoBias1[i][0])\n",
    "    D_Inv_NoBias.append(D_Inv_NoBias1[i][0]) \n",
    "    \n",
    "    L_Full.append(L_Full1[i][0]) \n",
    "    L_NoBias.append(L_NoBias1[i][0]) "
   ]
  },
  {
   "cell_type": "code",
   "execution_count": 16,
   "metadata": {},
   "outputs": [],
   "source": [
    "# Load LOO-score\n",
    "Models_WAIC = [np.mean(L_Full),np.mean(D_Inv_Full),np.mean(D_Full)]\n",
    "Models_WAIC_part = [L_Full,D_Inv_Full,D_Full]\n",
    "\n",
    "x = np.arange(len(Models_WAIC))"
   ]
  },
  {
   "cell_type": "code",
   "execution_count": 19,
   "metadata": {},
   "outputs": [
    {
     "data": {
      "image/png": "[encoded data removed]",
      "text/plain": [
       "<Figure size 720x360 with 1 Axes>"
      ]
     },
     "metadata": {
      "needs_background": "light"
     },
     "output_type": "display_data"
    }
   ],
   "source": [
    "fig, ax = plt.subplots(1,1,figsize=(10,5))\n",
    "ax.set_facecolor('xkcd:white')\n",
    "plt.bar(x, Models_WAIC, color=['#4F6A9A',  '#AC5255', '#AC5255'])\n",
    "plt.xticks(x, ('Full', 'Inv Full', 'Full'))\n",
    "plt.ylim(500, 2500)\n",
    "plt.ylabel('WAIC score')\n",
    "\n",
    "like_patch = mpatches.Patch(color='#4F6A9A', label='Like')\n",
    "dislike_patch = mpatches.Patch(color='#AC5255', label='Dislike')\n",
    "leg = plt.legend(handles=[like_patch,dislike_patch])\n",
    "leg.get_frame().set_facecolor('none')\n",
    "leg.get_frame().set_linewidth(0.0)\n",
    "\n",
    "for i in range(len(Models_WAIC)):\n",
    "    position_parts= np.full(len(Models_WAIC_part[i]),i, dtype=int)\n",
    "    jittr = np.random.uniform(low=-0.2,high=0.2,size=len(Models_WAIC_part[i]))/2\n",
    "    ax.plot(position_parts+jittr, Models_WAIC_part[i], marker='o', ms=8, color='#000000',alpha=0.3,linestyle=\"None\")\n",
    "\n",
    "plt.show()\n",
    "\n",
    "\n",
    "\n",
    "#fig.savefig(str('SavedFigures/GLAM_individual_WAIC_ModelComparison_31.png'), dpi = 200 )"
   ]
  },
  {
   "cell_type": "code",
   "execution_count": 53,
   "metadata": {},
   "outputs": [
    {
     "data": {
      "text/plain": [
       "[1130.1755579664984,\n",
       " 1207.5977094806142,\n",
       " 1189.6250379584137,\n",
       " 1788.2677498802386,\n",
       " 1194.6365074069379,\n",
       " 2205.3765642418703]"
      ]
     },
     "execution_count": 53,
     "metadata": {},
     "output_type": "execute_result"
    }
   ],
   "source": [
    "Models_WAIC"
   ]
  },
  {
   "cell_type": "code",
   "execution_count": null,
   "metadata": {},
   "outputs": [],
   "source": []
  }
 ],
 "metadata": {
  "kernelspec": {
   "display_name": "Python 3",
   "language": "python",
   "name": "python3"
  },
  "language_info": {
   "codemirror_mode": {
    "name": "ipython",
    "version": 3
   },
   "file_extension": ".py",
   "mimetype": "text/x-python",
   "name": "python",
   "nbconvert_exporter": "python",
   "pygments_lexer": "ipython3",
   "version": "3.7.2"
  }
 },
 "nbformat": 4,
 "nbformat_minor": 2
}
