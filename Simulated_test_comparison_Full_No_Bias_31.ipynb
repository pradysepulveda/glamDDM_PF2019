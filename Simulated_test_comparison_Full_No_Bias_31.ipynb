{
 "cells": [
  {
   "cell_type": "code",
   "execution_count": 1,
   "metadata": {},
   "outputs": [],
   "source": [
    "import numpy as np\n",
    "import pandas as pd\n",
    "import statsmodels.api as sm\n",
    "from statsmodels.stats.outliers_influence import summary_table\n",
    "\n",
    "# from seaborn import despine\n",
    "import matplotlib.pyplot as plt\n",
    "plt.rc(\"axes.spines\", top=False, right=False)\n",
    "\n",
    "from analysis_functions import compute_gaze_influence, sci_notation, run_linear_model, compute_mean_rt, compute_p_choose_best, write_summary, make_sure_path_exists"
   ]
  },
  {
   "cell_type": "code",
   "execution_count": 2,
   "metadata": {
    "collapsed": true
   },
   "outputs": [],
   "source": [
    "make_sure_path_exists('results/linear_models')"
   ]
  },
  {
   "cell_type": "code",
   "execution_count": 3,
   "metadata": {
    "collapsed": true
   },
   "outputs": [],
   "source": [
    "np.random.seed(52) # from random.org"
   ]
  },
  {
   "cell_type": "markdown",
   "metadata": {},
   "source": [
    "# Absolute model fit (out of sample prediction)\n",
    "# Full Model vs No Bias Model\n",
    "## Like and dislike condition"
   ]
  },
  {
   "cell_type": "code",
   "execution_count": 4,
   "metadata": {},
   "outputs": [
    {
     "name": "stdout",
     "output_type": "stream",
     "text": [
      "Assessing absolute model fit...\n"
     ]
    }
   ],
   "source": [
    "print('Assessing absolute model fit...')"
   ]
  },
  {
   "cell_type": "markdown",
   "metadata": {},
   "source": [
    "### Load plot function"
   ]
  },
  {
   "cell_type": "code",
   "execution_count": 5,
   "metadata": {
    "collapsed": true
   },
   "outputs": [],
   "source": [
    "def plot_correlation(x, y,\n",
    "                     model_names=None,\n",
    "                     xlabel='',\n",
    "                     ylabel='',\n",
    "                     title='',\n",
    "                     ci=0.95,\n",
    "                     xticks=None,\n",
    "                     yticks=None,\n",
    "                     xticklabels=None,\n",
    "                     yticklabels=None,\n",
    "                     xlim=None,\n",
    "                     ylim=None,\n",
    "                     annotation_pos=(0.1, 0.1),\n",
    "                     annotation_halign='left',\n",
    "                     fontsize_title=15,\n",
    "                     fontsize_axeslabel=15,\n",
    "                     fontsize_ticklabels=12,\n",
    "                     fontsize_annotation=12,\n",
    "                     plot_diagonal=False,\n",
    "                     ax=None):\n",
    "\n",
    "    # Defaults\n",
    "    if ax is None:\n",
    "        fig, ax = plt.subplots()\n",
    "    if not isinstance(y, list):\n",
    "        y = [y]\n",
    "    if model_names is None:\n",
    "        model_names = ['Model {}'.format(i)\n",
    "                       for i in range(len(y))]\n",
    "    \n",
    "    for i, yi in enumerate(y):\n",
    "        # Scatter\n",
    "        ax.scatter(x, yi, color='C{}'.format(i), alpha=0.5)\n",
    "\n",
    "        # LM fit\n",
    "        X = sm.add_constant(x)\n",
    "        lm = sm.OLS(yi, X).fit()\n",
    "        intercept, slope = lm.params\n",
    "        table, data, columns = summary_table(lm, alpha=1.-ci)\n",
    "        predicted, mean_ci_lower, mean_ci_upper = data[:, np.array([2, 4, 5])].T\n",
    "\n",
    "         # Annotation\n",
    "        tval = lm.tvalues[-1]\n",
    "        pval = lm.pvalues[-1]\n",
    "        if pval < 0.01:\n",
    "            pstring = ' < ' + sci_notation(pval, decimal_digits=2)\n",
    "        else:\n",
    "            pstring = ' = {:.2f}'.format(pval)\n",
    "        r = np.sign(tval) * np.sqrt(lm.rsquared)\n",
    "        label = ((r'$r = {:.2f}$, '.format(r)) +\n",
    "                  r'$P${}'.format(pstring))\n",
    "        xs = np.linspace(*ax.get_xlim(), 100)\n",
    "        ax.plot(xs, intercept + slope * xs,\n",
    "                color='C{}'.format(i), label=label)\n",
    "        sort_idx = np.argsort(x)\n",
    "        ax.fill_between(x[sort_idx], mean_ci_lower[sort_idx], mean_ci_upper[sort_idx],\n",
    "                        color='C{}'.format(i), alpha=0.1)\n",
    "\n",
    "    ax.legend(loc='best', fontsize=fontsize_annotation, frameon=False)\n",
    "\n",
    "    # Axes, ticks, ...\n",
    "    if xticks is not None:\n",
    "        ax.set_xticks(xticks)\n",
    "    if yticks is not None:\n",
    "        ax.set_yticks(yticks)\n",
    "        \n",
    "    if xticklabels is not None:\n",
    "        ax.set_xticklabels(xticklabels, fontsize=fontsize_ticklabels)\n",
    "    if yticklabels is not None:\n",
    "        ax.set_yticklabels(yticklabels, fontsize=fontsize_ticklabels)\n",
    "\n",
    "    if xlim is not None:\n",
    "        ax.set_xlim(xlim)\n",
    "    if ylim is not None:\n",
    "        ax.set_ylim(ylim)\n",
    "\n",
    "    # Diagonal\n",
    "    if plot_diagonal:\n",
    "        ax.plot([0, 1], [0, 1], transform=ax.transAxes,\n",
    "                color='black', alpha=.5, zorder=-10, lw=2)\n",
    "\n",
    "    # Labels\n",
    "    ax.set_xlabel(xlabel, fontsize=fontsize_axeslabel)\n",
    "    ax.set_ylabel(ylabel, fontsize=fontsize_axeslabel)\n",
    "    ax.set_title(title, fontsize=fontsize_title)\n",
    "#     despine()\n",
    "\n",
    "    return ax"
   ]
  },
  {
   "cell_type": "markdown",
   "metadata": {},
   "source": [
    "# LIKE CONDITION"
   ]
  },
  {
   "cell_type": "markdown",
   "metadata": {},
   "source": [
    "## Load *observed* data (test set) GLAM out of sample *predictions*"
   ]
  },
  {
   "cell_type": "code",
   "execution_count": 6,
   "metadata": {
    "collapsed": true
   },
   "outputs": [],
   "source": [
    "#Like\n",
    "test_data = pd.read_csv('data/FF2018_data/GlamDataFF2018_preprocessed_train_Like_NoBin_NUTS_31.csv')\n",
    "\n",
    "#Dislike\n",
    "#test_data = pd.read_csv('data/FF2018_data/GlamDataFF2018_preprocessed_test_Dislike_FixBin5_InvInputDislike_NUTS.csv')\n",
    "\n",
    "#Like\n",
    "glam_full = pd.read_csv('results/predictions/glam_FF2018_full_hierarchical_cv_Like_NoBin_NUTS_31.csv')\n",
    "glam_nobias = pd.read_csv('results/predictions/glam_FF2018_nobias_hierarchical_cv_Like_NoBin_NUTS_31.csv')\n",
    "\n",
    "#Dislike\n",
    "#glam_full = pd.read_csv('results/predictions/glam_FF2018_full_hierarchical_cv_Dislike_FixBin5_InvInputDislike_NUTS.csv')\n",
    "#glam_nobias = pd.read_csv('results/predictions/glam_FF2018_nobias_hierarchical_cv_Dislike_FixBin5_InvInputDislike_NUTS.csv')"
   ]
  },
  {
   "cell_type": "markdown",
   "metadata": {},
   "source": [
    "# Compute behavioral indices for observed data and predictions"
   ]
  },
  {
   "cell_type": "code",
   "execution_count": 7,
   "metadata": {
    "collapsed": true
   },
   "outputs": [],
   "source": [
    "mean_rt = pd.DataFrame(dict(observed=compute_mean_rt(test_data),\n",
    "                            glam_full=compute_mean_rt(glam_full),\n",
    "                            glam_nobias=compute_mean_rt(glam_nobias)))\n",
    "\n",
    "p_choose_best = pd.DataFrame(dict(observed=compute_p_choose_best(test_data),\n",
    "                            glam_full=compute_p_choose_best(glam_full),\n",
    "                            glam_nobias=compute_p_choose_best(glam_nobias)))\n",
    "\n",
    "gaze_influence = pd.DataFrame(dict(observed=compute_gaze_influence(test_data),\n",
    "                                   glam_full=compute_gaze_influence(glam_full),\n",
    "                                   glam_nobias=compute_gaze_influence(glam_nobias)))"
   ]
  },
  {
   "cell_type": "markdown",
   "metadata": {},
   "source": [
    "## Linear models: Are out of sample data predicted by GLAM variants?\n",
    "\n",
    "### 1. Full GLAM\n",
    "\n",
    "#### 1.1 Mean RT"
   ]
  },
  {
   "cell_type": "code",
   "execution_count": 8,
   "metadata": {},
   "outputs": [
    {
     "name": "stdout",
     "output_type": "stream",
     "text": [
      "  1. Full GLAM...\n",
      "  1.1 Mean RT\n",
      "                            OLS Regression Results                            \n",
      "==============================================================================\n",
      "Dep. Variable:               observed   R-squared:                       0.919\n",
      "Model:                            OLS   Adj. R-squared:                  0.916\n",
      "Method:                 Least Squares   F-statistic:                     328.1\n",
      "Date:                Mon, 11 Feb 2019   Prob (F-statistic):           2.36e-17\n",
      "Time:                        14:31:04   Log-Likelihood:                -208.15\n",
      "No. Observations:                  31   AIC:                             420.3\n",
      "Df Residuals:                      29   BIC:                             423.2\n",
      "Df Model:                           1                                         \n",
      "Covariance Type:            nonrobust                                         \n",
      "==============================================================================\n",
      "                 coef    std err          t      P>|t|      [0.025      0.975]\n",
      "------------------------------------------------------------------------------\n",
      "const         -9.9342    164.198     -0.061      0.952    -345.757     325.888\n",
      "glam_full      1.0832      0.060     18.114      0.000       0.961       1.205\n",
      "==============================================================================\n",
      "Omnibus:                        3.096   Durbin-Watson:                   1.909\n",
      "Prob(Omnibus):                  0.213   Jarque-Bera (JB):                2.620\n",
      "Skew:                           0.611   Prob(JB):                        0.270\n",
      "Kurtosis:                       2.267   Cond. No.                     1.22e+04\n",
      "==============================================================================\n",
      "\n",
      "Warnings:\n",
      "[1] Standard Errors assume that the covariance matrix of the errors is correctly specified.\n",
      "[2] The condition number is large, 1.22e+04. This might indicate that there are\n",
      "strong multicollinearity or other numerical problems.\n",
      "Slope = 1.08\n",
      "t(29) = 18.11\n",
      "P = 0.0000000000\n"
     ]
    }
   ],
   "source": [
    "print('  1. Full GLAM...')\n",
    "print('  1.1 Mean RT')\n",
    "_ = run_linear_model(mean_rt['glam_full'],\n",
    "                     mean_rt['observed'])\n",
    "write_summary(_, 'results/linear_models/like/3_absfit_fullglam_rt.csv')"
   ]
  },
  {
   "cell_type": "markdown",
   "metadata": {},
   "source": [
    "#### 1.2 P(choose best)"
   ]
  },
  {
   "cell_type": "code",
   "execution_count": 9,
   "metadata": {},
   "outputs": [
    {
     "name": "stdout",
     "output_type": "stream",
     "text": [
      "  1.2 P(choose best)\n",
      "                            OLS Regression Results                            \n",
      "==============================================================================\n",
      "Dep. Variable:               observed   R-squared:                       0.739\n",
      "Model:                            OLS   Adj. R-squared:                  0.730\n",
      "Method:                 Least Squares   F-statistic:                     82.13\n",
      "Date:                Mon, 11 Feb 2019   Prob (F-statistic):           5.86e-10\n",
      "Time:                        14:31:04   Log-Likelihood:                 46.481\n",
      "No. Observations:                  31   AIC:                            -88.96\n",
      "Df Residuals:                      29   BIC:                            -86.09\n",
      "Df Model:                           1                                         \n",
      "Covariance Type:            nonrobust                                         \n",
      "==============================================================================\n",
      "                 coef    std err          t      P>|t|      [0.025      0.975]\n",
      "------------------------------------------------------------------------------\n",
      "const         -0.0331      0.081     -0.407      0.687      -0.199       0.133\n",
      "glam_full      1.0294      0.114      9.063      0.000       0.797       1.262\n",
      "==============================================================================\n",
      "Omnibus:                        1.326   Durbin-Watson:                   2.422\n",
      "Prob(Omnibus):                  0.515   Jarque-Bera (JB):                1.007\n",
      "Skew:                          -0.162   Prob(JB):                        0.604\n",
      "Kurtosis:                       2.178   Cond. No.                         17.1\n",
      "==============================================================================\n",
      "\n",
      "Warnings:\n",
      "[1] Standard Errors assume that the covariance matrix of the errors is correctly specified.\n",
      "Slope = 1.03\n",
      "t(29) = 9.06\n",
      "P = 0.0000000006\n"
     ]
    }
   ],
   "source": [
    "print('  1.2 P(choose best)')\n",
    "_ = run_linear_model(p_choose_best['glam_full'],\n",
    "                     p_choose_best['observed'])\n",
    "write_summary(_, 'results/linear_models/like/3_absfit_fullglam_pchoosebest.csv')"
   ]
  },
  {
   "cell_type": "markdown",
   "metadata": {},
   "source": [
    "#### 1.3 Gaze influence on P(choose left)"
   ]
  },
  {
   "cell_type": "code",
   "execution_count": 10,
   "metadata": {},
   "outputs": [
    {
     "name": "stdout",
     "output_type": "stream",
     "text": [
      "  1.3 Gaze Influence\n",
      "                            OLS Regression Results                            \n",
      "==============================================================================\n",
      "Dep. Variable:               observed   R-squared:                       0.502\n",
      "Model:                            OLS   Adj. R-squared:                  0.485\n",
      "Method:                 Least Squares   F-statistic:                     29.29\n",
      "Date:                Mon, 11 Feb 2019   Prob (F-statistic):           8.08e-06\n",
      "Time:                        14:31:04   Log-Likelihood:                 14.495\n",
      "No. Observations:                  31   AIC:                            -24.99\n",
      "Df Residuals:                      29   BIC:                            -22.12\n",
      "Df Model:                           1                                         \n",
      "Covariance Type:            nonrobust                                         \n",
      "==============================================================================\n",
      "                 coef    std err          t      P>|t|      [0.025      0.975]\n",
      "------------------------------------------------------------------------------\n",
      "const          0.1169      0.058      2.008      0.054      -0.002       0.236\n",
      "glam_full      0.8178      0.151      5.412      0.000       0.509       1.127\n",
      "==============================================================================\n",
      "Omnibus:                        0.527   Durbin-Watson:                   2.183\n",
      "Prob(Omnibus):                  0.769   Jarque-Bera (JB):                0.648\n",
      "Skew:                           0.192   Prob(JB):                        0.723\n",
      "Kurtosis:                       2.404   Cond. No.                         6.00\n",
      "==============================================================================\n",
      "\n",
      "Warnings:\n",
      "[1] Standard Errors assume that the covariance matrix of the errors is correctly specified.\n",
      "Slope = 0.82\n",
      "t(29) = 5.41\n",
      "P = 0.0000080789\n"
     ]
    }
   ],
   "source": [
    "print('  1.3 Gaze Influence')\n",
    "_ = run_linear_model(gaze_influence['glam_full'],\n",
    "                     gaze_influence['observed'])\n",
    "write_summary(_, 'results/linear_models/like/3_absfit_fullglam_gazeinfluence.csv')"
   ]
  },
  {
   "cell_type": "markdown",
   "metadata": {},
   "source": [
    "### 2. No-Bias GLAM\n",
    "\n",
    "#### 2.1 Mean RT"
   ]
  },
  {
   "cell_type": "code",
   "execution_count": 11,
   "metadata": {},
   "outputs": [
    {
     "name": "stdout",
     "output_type": "stream",
     "text": [
      "  2. No-Bias GLAM\n",
      "  2.1 Mean RT\n",
      "                            OLS Regression Results                            \n",
      "==============================================================================\n",
      "Dep. Variable:               observed   R-squared:                       0.595\n",
      "Model:                            OLS   Adj. R-squared:                  0.582\n",
      "Method:                 Least Squares   F-statistic:                     42.69\n",
      "Date:                Mon, 11 Feb 2019   Prob (F-statistic):           3.72e-07\n",
      "Time:                        14:31:04   Log-Likelihood:                -233.04\n",
      "No. Observations:                  31   AIC:                             470.1\n",
      "Df Residuals:                      29   BIC:                             472.9\n",
      "Df Model:                           1                                         \n",
      "Covariance Type:            nonrobust                                         \n",
      "===============================================================================\n",
      "                  coef    std err          t      P>|t|      [0.025      0.975]\n",
      "-------------------------------------------------------------------------------\n",
      "const         663.9027    350.233      1.896      0.068     -52.404    1380.210\n",
      "glam_nobias     0.7913      0.121      6.534      0.000       0.544       1.039\n",
      "==============================================================================\n",
      "Omnibus:                       15.475   Durbin-Watson:                   1.897\n",
      "Prob(Omnibus):                  0.000   Jarque-Bera (JB):               16.882\n",
      "Skew:                          -1.439   Prob(JB):                     0.000216\n",
      "Kurtosis:                       5.188   Cond. No.                     1.23e+04\n",
      "==============================================================================\n",
      "\n",
      "Warnings:\n",
      "[1] Standard Errors assume that the covariance matrix of the errors is correctly specified.\n",
      "[2] The condition number is large, 1.23e+04. This might indicate that there are\n",
      "strong multicollinearity or other numerical problems.\n",
      "Slope = 0.79\n",
      "t(29) = 6.53\n",
      "P = 0.0000003723\n"
     ]
    }
   ],
   "source": [
    "print('  2. No-Bias GLAM')\n",
    "print('  2.1 Mean RT')\n",
    "_ = run_linear_model(mean_rt['glam_nobias'],\n",
    "                     mean_rt['observed'])\n",
    "write_summary(_, 'results/linear_models/like/3_absfit_nobias_rt.csv')"
   ]
  },
  {
   "cell_type": "markdown",
   "metadata": {},
   "source": [
    "#### 2.2 P(choose best)"
   ]
  },
  {
   "cell_type": "code",
   "execution_count": 12,
   "metadata": {},
   "outputs": [
    {
     "name": "stdout",
     "output_type": "stream",
     "text": [
      "  2.2 P(choose best)\n",
      "                            OLS Regression Results                            \n",
      "==============================================================================\n",
      "Dep. Variable:               observed   R-squared:                       0.316\n",
      "Model:                            OLS   Adj. R-squared:                  0.292\n",
      "Method:                 Least Squares   F-statistic:                     13.37\n",
      "Date:                Mon, 11 Feb 2019   Prob (F-statistic):            0.00101\n",
      "Time:                        14:31:05   Log-Likelihood:                 31.534\n",
      "No. Observations:                  31   AIC:                            -59.07\n",
      "Df Residuals:                      29   BIC:                            -56.20\n",
      "Df Model:                           1                                         \n",
      "Covariance Type:            nonrobust                                         \n",
      "===============================================================================\n",
      "                  coef    std err          t      P>|t|      [0.025      0.975]\n",
      "-------------------------------------------------------------------------------\n",
      "const           0.2791      0.116      2.415      0.022       0.043       0.515\n",
      "glam_nobias     0.5850      0.160      3.656      0.001       0.258       0.912\n",
      "==============================================================================\n",
      "Omnibus:                        0.805   Durbin-Watson:                   2.013\n",
      "Prob(Omnibus):                  0.669   Jarque-Bera (JB):                0.852\n",
      "Skew:                          -0.321   Prob(JB):                        0.653\n",
      "Kurtosis:                       2.502   Cond. No.                         14.9\n",
      "==============================================================================\n",
      "\n",
      "Warnings:\n",
      "[1] Standard Errors assume that the covariance matrix of the errors is correctly specified.\n",
      "Slope = 0.59\n",
      "t(29) = 3.66\n",
      "P = 0.0010088495\n"
     ]
    }
   ],
   "source": [
    "print('  2.2 P(choose best)')\n",
    "_ = run_linear_model(p_choose_best['glam_nobias'],\n",
    "                     p_choose_best['observed'])\n",
    "write_summary(_, 'results/linear_models/like/3_absfit_nobias_pchoosebest.csv')"
   ]
  },
  {
   "cell_type": "markdown",
   "metadata": {},
   "source": [
    "#### 2.3 Gaze influence on P(choose left)"
   ]
  },
  {
   "cell_type": "code",
   "execution_count": 13,
   "metadata": {},
   "outputs": [
    {
     "name": "stdout",
     "output_type": "stream",
     "text": [
      "  2.3 Gaze influence\n",
      "                            OLS Regression Results                            \n",
      "==============================================================================\n",
      "Dep. Variable:               observed   R-squared:                       0.211\n",
      "Model:                            OLS   Adj. R-squared:                  0.183\n",
      "Method:                 Least Squares   F-statistic:                     7.737\n",
      "Date:                Mon, 11 Feb 2019   Prob (F-statistic):            0.00941\n",
      "Time:                        14:31:05   Log-Likelihood:                 7.3401\n",
      "No. Observations:                  31   AIC:                            -10.68\n",
      "Df Residuals:                      29   BIC:                            -7.812\n",
      "Df Model:                           1                                         \n",
      "Covariance Type:            nonrobust                                         \n",
      "===============================================================================\n",
      "                  coef    std err          t      P>|t|      [0.025      0.975]\n",
      "-------------------------------------------------------------------------------\n",
      "const           0.3974      0.036     11.194      0.000       0.325       0.470\n",
      "glam_nobias    -5.8788      2.113     -2.782      0.009     -10.201      -1.556\n",
      "==============================================================================\n",
      "Omnibus:                        2.711   Durbin-Watson:                   1.800\n",
      "Prob(Omnibus):                  0.258   Jarque-Bera (JB):                1.473\n",
      "Skew:                           0.465   Prob(JB):                        0.479\n",
      "Kurtosis:                       3.524   Cond. No.                         59.6\n",
      "==============================================================================\n",
      "\n",
      "Warnings:\n",
      "[1] Standard Errors assume that the covariance matrix of the errors is correctly specified.\n",
      "Slope = -5.88\n",
      "t(29) = -2.78\n",
      "P = 0.0094093122\n"
     ]
    }
   ],
   "source": [
    "print('  2.3 Gaze influence')\n",
    "_ = run_linear_model(gaze_influence['glam_nobias'],\n",
    "                     gaze_influence['observed'])\n",
    "write_summary(_, 'results/linear_models/like/3_absfit_nobias_gazeinfluence.csv')"
   ]
  },
  {
   "cell_type": "markdown",
   "metadata": {},
   "source": [
    "# Figure 5"
   ]
  },
  {
   "cell_type": "code",
   "execution_count": 14,
   "metadata": {
    "collapsed": true
   },
   "outputs": [],
   "source": [
    "def figure_5(mean_rt, p_choose_best, gaze_influence, figsize=(10, 3.5)):\n",
    "\n",
    "    fig, axs = plt.subplots(1, 3, figsize=figsize)\n",
    "\n",
    "    plot_correlation(mean_rt['observed'].values,\n",
    "                     [mean_rt['glam_full'].values, mean_rt['glam_nobias'].values],\n",
    "                     model_names=['Full', r'$\\theta = 1$'],\n",
    "                     xlabel='Observed',\n",
    "                     ylabel='Predicted',\n",
    "                     title='Mean RT (ms)',\n",
    "                     xlim=[0, 6500],\n",
    "                     ylim=[0, 6500],\n",
    "                     xticks=np.arange(0, 7000, 1000),\n",
    "                     yticks=np.arange(0, 7000, 1000),\n",
    "                     xticklabels=['0', '', '2000', '', '4000', '', '6000'],\n",
    "                     yticklabels=['0', '', '2000', '', '4000', '', '6000'],\n",
    "                     fontsize_axeslabel=15,\n",
    "                     fontsize_ticklabels=12,\n",
    "                     fontsize_title=15,\n",
    "                     fontsize_annotation=8,\n",
    "                     ax=axs[0], plot_diagonal=True)\n",
    "\n",
    "    plot_correlation(p_choose_best['observed'].values,\n",
    "                     [p_choose_best['glam_full'].values, p_choose_best['glam_nobias'].values],\n",
    "                     model_names=['Full', r'$\\theta = 1$'],\n",
    "                     xlabel='Observed',\n",
    "                     ylabel='Predicted',\n",
    "                     title='P(choose best)',\n",
    "                     xlim=[0.45, 1.05],\n",
    "                     ylim=[0.45, 1.05],\n",
    "                     xticks=np.arange(0.4, 1.1, 0.1),\n",
    "                     yticks=np.arange(0.4, 1.1, 0.1),\n",
    "                     xticklabels=['0.4', '0.5', '0.6', '0.7', '0.8', '0.9', '1.0'],\n",
    "                     yticklabels=['0.4', '0.5', '0.6', '0.7', '0.8', '0.9', '1.0'],\n",
    "                     fontsize_axeslabel=15,\n",
    "                     fontsize_ticklabels=12,\n",
    "                     fontsize_title=15,\n",
    "                     fontsize_annotation=8,\n",
    "                     ax=axs[1], plot_diagonal=True)\n",
    "\n",
    "    plot_correlation(gaze_influence['observed'].values,\n",
    "                     [gaze_influence['glam_full'].values, gaze_influence['glam_nobias'].values],\n",
    "                     model_names=['Full', r'$\\theta = 1$'],\n",
    "                     xlabel='Observed',\n",
    "                     ylabel='Predicted',\n",
    "                     title='Gaze influence\\non P(choose left)',\n",
    "                     xticks=np.arange(-0.1, 0.7, 0.1),\n",
    "                     yticks=np.arange(-0.1, 0.7, 0.1),\n",
    "                     xticklabels=['-0.1', '0', '0.1', '0.2', '0.3', '0.4', '0.5', '0.6'],\n",
    "                     yticklabels=['-0.1', '0', '0.1', '0.2', '0.3', '0.4', '0.5', '0.6'],\n",
    "                     xlim=[-0.125, 0.625],\n",
    "                     ylim=[-0.125, 0.625],\n",
    "                     fontsize_axeslabel=15,\n",
    "                     fontsize_ticklabels=12,\n",
    "                     fontsize_title=15,\n",
    "                     fontsize_annotation=8,\n",
    "                     ax=axs[2], plot_diagonal=True)\n",
    "\n",
    "    # index axes\n",
    "    for label, ax in zip(list('ABC'), axs.ravel()):\n",
    "        ax.text(-0.1, 1.15, label, transform=ax.transAxes,\n",
    "                fontsize=20, fontweight='bold', va='top')\n",
    "\n",
    "    fig.tight_layout()\n",
    "\n",
    "    return None"
   ]
  },
  {
   "cell_type": "code",
   "execution_count": 15,
   "metadata": {},
   "outputs": [
    {
     "name": "stdout",
     "output_type": "stream",
     "text": [
      "Close Figure to continue...\n"
     ]
    },
    {
     "data": {
      "image/png": "[encoded data removed]",
      "text/plain": [
       "<Figure size 720x252 with 3 Axes>"
      ]
     },
     "metadata": {
      "needs_background": "light"
     },
     "output_type": "display_data"
    }
   ],
   "source": [
    "print('Close Figure to continue...')\n",
    "figure_5(mean_rt, p_choose_best, gaze_influence)\n",
    "plt.savefig('SavedFigures/Like_model_fit_simulations.png', dpi=330, bbox_inches='tight')\n",
    "plt.show()"
   ]
  },
  {
   "cell_type": "markdown",
   "metadata": {},
   "source": [
    "Model predictions are simulated from hierarchically estimated parameter estimates. Blue color indicates predictions from the full GLAM, whereas orange indicates predictions from a restricted GLAM variant with no gaze bias (gamma = 1).\n"
   ]
  },
  {
   "cell_type": "markdown",
   "metadata": {},
   "source": [
    "# DISLIKE CONDITION"
   ]
  },
  {
   "cell_type": "markdown",
   "metadata": {},
   "source": [
    "## Load *observed* data (test set) GLAM out of sample *predictions*"
   ]
  },
  {
   "cell_type": "code",
   "execution_count": 16,
   "metadata": {
    "collapsed": true
   },
   "outputs": [],
   "source": [
    "#Like\n",
    "#test_data = pd.read_csv('data/FF2018_data/GlamDataFF2018_preprocessed_test_Like_FixBin5_NUTS.csv')\n",
    "#Dislike\n",
    "test_data = pd.read_csv('data/FF2018_data/GlamDataFF2018_preprocessed_train_Dislike_NoBin_Dislike_NUTS_Inv_31.csv')\n",
    "\n",
    "#Like\n",
    "#glam_full = pd.read_csv('results/predictions/glam_FF2018_full_hierarchical_cv_Like_FixBin5_NUTS.csv')\n",
    "#glam_nobias = pd.read_csv('results/predictions/glam_FF2018_nobias_hierarchical_cv_Like_FixBin5_NUTS.csv')\n",
    "\n",
    "#Dislike\n",
    "glam_full = pd.read_csv('results/predictions/glam_FF2018_full_hierarchical_cv_Dislike_NoBin_Dislike_NUTS_Inv_31.csv')\n",
    "glam_nobias = pd.read_csv('results/predictions/glam_FF2018_nobias_hierarchical_cv_Dislike_NoBin_Dislike_NUTS_Inv_31.csv')"
   ]
  },
  {
   "cell_type": "markdown",
   "metadata": {},
   "source": [
    "# Compute behavioral indices for observed data and predictions"
   ]
  },
  {
   "cell_type": "code",
   "execution_count": 17,
   "metadata": {
    "collapsed": true
   },
   "outputs": [],
   "source": [
    "mean_rt = pd.DataFrame(dict(observed=compute_mean_rt(test_data),\n",
    "                            glam_full=compute_mean_rt(glam_full),\n",
    "                            glam_nobias=compute_mean_rt(glam_nobias)))\n",
    "\n",
    "p_choose_best = pd.DataFrame(dict(observed=compute_p_choose_best(test_data),\n",
    "                            glam_full=compute_p_choose_best(glam_full),\n",
    "                            glam_nobias=compute_p_choose_best(glam_nobias)))\n",
    "\n",
    "gaze_influence = pd.DataFrame(dict(observed=compute_gaze_influence(test_data),\n",
    "                                   glam_full=compute_gaze_influence(glam_full),\n",
    "                                   glam_nobias=compute_gaze_influence(glam_nobias)))"
   ]
  },
  {
   "cell_type": "markdown",
   "metadata": {},
   "source": [
    "## Linear models: Are out of sample data predicted by GLAM variants?\n",
    "\n",
    "### 1. Full GLAM\n",
    "\n",
    "#### 1.1 Mean RT"
   ]
  },
  {
   "cell_type": "code",
   "execution_count": 18,
   "metadata": {},
   "outputs": [
    {
     "name": "stdout",
     "output_type": "stream",
     "text": [
      "  1. Full GLAM...\n",
      "  1.1 Mean RT\n",
      "                            OLS Regression Results                            \n",
      "==============================================================================\n",
      "Dep. Variable:               observed   R-squared:                       0.869\n",
      "Model:                            OLS   Adj. R-squared:                  0.865\n",
      "Method:                 Least Squares   F-statistic:                     192.4\n",
      "Date:                Mon, 11 Feb 2019   Prob (F-statistic):           2.48e-14\n",
      "Time:                        14:31:09   Log-Likelihood:                -221.64\n",
      "No. Observations:                  31   AIC:                             447.3\n",
      "Df Residuals:                      29   BIC:                             450.2\n",
      "Df Model:                           1                                         \n",
      "Covariance Type:            nonrobust                                         \n",
      "==============================================================================\n",
      "                 coef    std err          t      P>|t|      [0.025      0.975]\n",
      "------------------------------------------------------------------------------\n",
      "const       -507.3552    271.700     -1.867      0.072   -1063.045      48.334\n",
      "glam_full      1.2504      0.090     13.872      0.000       1.066       1.435\n",
      "==============================================================================\n",
      "Omnibus:                        0.978   Durbin-Watson:                   1.929\n",
      "Prob(Omnibus):                  0.613   Jarque-Bera (JB):                0.613\n",
      "Skew:                           0.343   Prob(JB):                        0.736\n",
      "Kurtosis:                       2.937   Cond. No.                     1.43e+04\n",
      "==============================================================================\n",
      "\n",
      "Warnings:\n",
      "[1] Standard Errors assume that the covariance matrix of the errors is correctly specified.\n",
      "[2] The condition number is large, 1.43e+04. This might indicate that there are\n",
      "strong multicollinearity or other numerical problems.\n",
      "Slope = 1.25\n",
      "t(29) = 13.87\n",
      "P = 0.0000000000\n"
     ]
    }
   ],
   "source": [
    "print('  1. Full GLAM...')\n",
    "print('  1.1 Mean RT')\n",
    "_ = run_linear_model(mean_rt['glam_full'],\n",
    "                     mean_rt['observed'])\n",
    "write_summary(_, 'results/linear_models/dislike/3_absfit_fullglam_rt.csv')"
   ]
  },
  {
   "cell_type": "markdown",
   "metadata": {},
   "source": [
    "#### 1.2 P(choose best)"
   ]
  },
  {
   "cell_type": "code",
   "execution_count": 19,
   "metadata": {},
   "outputs": [
    {
     "name": "stdout",
     "output_type": "stream",
     "text": [
      "  1.2 P(choose best)\n",
      "                            OLS Regression Results                            \n",
      "==============================================================================\n",
      "Dep. Variable:               observed   R-squared:                       0.807\n",
      "Model:                            OLS   Adj. R-squared:                  0.800\n",
      "Method:                 Least Squares   F-statistic:                     120.9\n",
      "Date:                Mon, 11 Feb 2019   Prob (F-statistic):           7.32e-12\n",
      "Time:                        14:31:09   Log-Likelihood:                 52.191\n",
      "No. Observations:                  31   AIC:                            -100.4\n",
      "Df Residuals:                      29   BIC:                            -97.51\n",
      "Df Model:                           1                                         \n",
      "Covariance Type:            nonrobust                                         \n",
      "==============================================================================\n",
      "                 coef    std err          t      P>|t|      [0.025      0.975]\n",
      "------------------------------------------------------------------------------\n",
      "const          0.0562      0.058      0.966      0.342      -0.063       0.175\n",
      "glam_full      0.9284      0.084     10.997      0.000       0.756       1.101\n",
      "==============================================================================\n",
      "Omnibus:                        0.508   Durbin-Watson:                   1.442\n",
      "Prob(Omnibus):                  0.776   Jarque-Bera (JB):                0.635\n",
      "Skew:                          -0.219   Prob(JB):                        0.728\n",
      "Kurtosis:                       2.453   Cond. No.                         14.9\n",
      "==============================================================================\n",
      "\n",
      "Warnings:\n",
      "[1] Standard Errors assume that the covariance matrix of the errors is correctly specified.\n",
      "Slope = 0.93\n",
      "t(29) = 11.00\n",
      "P = 0.0000000000\n"
     ]
    }
   ],
   "source": [
    "print('  1.2 P(choose best)')\n",
    "_ = run_linear_model(p_choose_best['glam_full'],\n",
    "                     p_choose_best['observed'])\n",
    "write_summary(_, 'results/linear_models/dislike/3_absfit_fullglam_pchoosebest.csv')"
   ]
  },
  {
   "cell_type": "markdown",
   "metadata": {},
   "source": [
    "#### 1.3 Gaze influence on P(choose left)"
   ]
  },
  {
   "cell_type": "code",
   "execution_count": 20,
   "metadata": {},
   "outputs": [
    {
     "name": "stdout",
     "output_type": "stream",
     "text": [
      "  1.3 Gaze Influence\n",
      "                            OLS Regression Results                            \n",
      "==============================================================================\n",
      "Dep. Variable:               observed   R-squared:                       0.761\n",
      "Model:                            OLS   Adj. R-squared:                  0.752\n",
      "Method:                 Least Squares   F-statistic:                     92.12\n",
      "Date:                Mon, 11 Feb 2019   Prob (F-statistic):           1.66e-10\n",
      "Time:                        14:31:10   Log-Likelihood:                 27.387\n",
      "No. Observations:                  31   AIC:                            -50.77\n",
      "Df Residuals:                      29   BIC:                            -47.91\n",
      "Df Model:                           1                                         \n",
      "Covariance Type:            nonrobust                                         \n",
      "==============================================================================\n",
      "                 coef    std err          t      P>|t|      [0.025      0.975]\n",
      "------------------------------------------------------------------------------\n",
      "const          0.0419      0.043      0.976      0.337      -0.046       0.130\n",
      "glam_full      0.8917      0.093      9.598      0.000       0.702       1.082\n",
      "==============================================================================\n",
      "Omnibus:                        1.926   Durbin-Watson:                   1.663\n",
      "Prob(Omnibus):                  0.382   Jarque-Bera (JB):                1.689\n",
      "Skew:                          -0.542   Prob(JB):                        0.430\n",
      "Kurtosis:                       2.638   Cond. No.                         5.90\n",
      "==============================================================================\n",
      "\n",
      "Warnings:\n",
      "[1] Standard Errors assume that the covariance matrix of the errors is correctly specified.\n",
      "Slope = 0.89\n",
      "t(29) = 9.60\n",
      "P = 0.0000000002\n"
     ]
    }
   ],
   "source": [
    "print('  1.3 Gaze Influence')\n",
    "_ = run_linear_model(gaze_influence['glam_full'],\n",
    "                     gaze_influence['observed'])\n",
    "write_summary(_, 'results/linear_models/dislike/3_absfit_fullglam_gazeinfluence.csv')"
   ]
  },
  {
   "cell_type": "markdown",
   "metadata": {},
   "source": [
    "### 2. No-Bias GLAM\n",
    "\n",
    "#### 2.1 Mean RT"
   ]
  },
  {
   "cell_type": "code",
   "execution_count": 21,
   "metadata": {},
   "outputs": [
    {
     "name": "stdout",
     "output_type": "stream",
     "text": [
      "  2. No-Bias GLAM\n",
      "  2.1 Mean RT\n",
      "                            OLS Regression Results                            \n",
      "==============================================================================\n",
      "Dep. Variable:               observed   R-squared:                       0.904\n",
      "Model:                            OLS   Adj. R-squared:                  0.900\n",
      "Method:                 Least Squares   F-statistic:                     272.1\n",
      "Date:                Mon, 11 Feb 2019   Prob (F-statistic):           2.82e-16\n",
      "Time:                        14:31:10   Log-Likelihood:                -216.88\n",
      "No. Observations:                  31   AIC:                             437.8\n",
      "Df Residuals:                      29   BIC:                             440.6\n",
      "Df Model:                           1                                         \n",
      "Covariance Type:            nonrobust                                         \n",
      "===============================================================================\n",
      "                  coef    std err          t      P>|t|      [0.025      0.975]\n",
      "-------------------------------------------------------------------------------\n",
      "const        -987.3010    257.173     -3.839      0.001   -1513.279    -461.323\n",
      "glam_nobias     1.3850      0.084     16.497      0.000       1.213       1.557\n",
      "==============================================================================\n",
      "Omnibus:                        2.100   Durbin-Watson:                   1.920\n",
      "Prob(Omnibus):                  0.350   Jarque-Bera (JB):                1.396\n",
      "Skew:                           0.519   Prob(JB):                        0.497\n",
      "Kurtosis:                       3.048   Cond. No.                     1.60e+04\n",
      "==============================================================================\n",
      "\n",
      "Warnings:\n",
      "[1] Standard Errors assume that the covariance matrix of the errors is correctly specified.\n",
      "[2] The condition number is large, 1.6e+04. This might indicate that there are\n",
      "strong multicollinearity or other numerical problems.\n",
      "Slope = 1.39\n",
      "t(29) = 16.50\n",
      "P = 0.0000000000\n"
     ]
    }
   ],
   "source": [
    "print('  2. No-Bias GLAM')\n",
    "print('  2.1 Mean RT')\n",
    "_ = run_linear_model(mean_rt['glam_nobias'],\n",
    "                     mean_rt['observed'])\n",
    "write_summary(_, 'results/linear_models/dislike/3_absfit_nobias_rt.csv')"
   ]
  },
  {
   "cell_type": "markdown",
   "metadata": {},
   "source": [
    "#### 2.2 P(choose best)"
   ]
  },
  {
   "cell_type": "code",
   "execution_count": 22,
   "metadata": {},
   "outputs": [
    {
     "name": "stdout",
     "output_type": "stream",
     "text": [
      "  2.2 P(choose best)\n",
      "                            OLS Regression Results                            \n",
      "==============================================================================\n",
      "Dep. Variable:               observed   R-squared:                       0.780\n",
      "Model:                            OLS   Adj. R-squared:                  0.772\n",
      "Method:                 Least Squares   F-statistic:                     102.8\n",
      "Date:                Mon, 11 Feb 2019   Prob (F-statistic):           4.82e-11\n",
      "Time:                        14:31:11   Log-Likelihood:                 50.193\n",
      "No. Observations:                  31   AIC:                            -96.39\n",
      "Df Residuals:                      29   BIC:                            -93.52\n",
      "Df Model:                           1                                         \n",
      "Covariance Type:            nonrobust                                         \n",
      "===============================================================================\n",
      "                  coef    std err          t      P>|t|      [0.025      0.975]\n",
      "-------------------------------------------------------------------------------\n",
      "const           0.0068      0.068      0.100      0.921      -0.132       0.146\n",
      "glam_nobias     1.0011      0.099     10.139      0.000       0.799       1.203\n",
      "==============================================================================\n",
      "Omnibus:                        0.001   Durbin-Watson:                   1.090\n",
      "Prob(Omnibus):                  1.000   Jarque-Bera (JB):                0.136\n",
      "Skew:                           0.011   Prob(JB):                        0.934\n",
      "Kurtosis:                       2.676   Cond. No.                         16.3\n",
      "==============================================================================\n",
      "\n",
      "Warnings:\n",
      "[1] Standard Errors assume that the covariance matrix of the errors is correctly specified.\n",
      "Slope = 1.00\n",
      "t(29) = 10.14\n",
      "P = 0.0000000000\n"
     ]
    }
   ],
   "source": [
    "print('  2.2 P(choose best)')\n",
    "_ = run_linear_model(p_choose_best['glam_nobias'],\n",
    "                     p_choose_best['observed'])\n",
    "write_summary(_, 'results/linear_models/dislike/3_absfit_nobias_pchoosebest.csv')"
   ]
  },
  {
   "cell_type": "markdown",
   "metadata": {},
   "source": [
    "#### 2.3 Gaze influence on P(choose left)"
   ]
  },
  {
   "cell_type": "code",
   "execution_count": 23,
   "metadata": {},
   "outputs": [
    {
     "name": "stdout",
     "output_type": "stream",
     "text": [
      "  2.3 Gaze influence\n",
      "                            OLS Regression Results                            \n",
      "==============================================================================\n",
      "Dep. Variable:               observed   R-squared:                       0.055\n",
      "Model:                            OLS   Adj. R-squared:                  0.022\n",
      "Method:                 Least Squares   F-statistic:                     1.684\n",
      "Date:                Mon, 11 Feb 2019   Prob (F-statistic):              0.205\n",
      "Time:                        14:31:12   Log-Likelihood:                 6.1046\n",
      "No. Observations:                  31   AIC:                            -8.209\n",
      "Df Residuals:                      29   BIC:                            -5.341\n",
      "Df Model:                           1                                         \n",
      "Covariance Type:            nonrobust                                         \n",
      "===============================================================================\n",
      "                  coef    std err          t      P>|t|      [0.025      0.975]\n",
      "-------------------------------------------------------------------------------\n",
      "const           0.4205      0.037     11.275      0.000       0.344       0.497\n",
      "glam_nobias    -2.9845      2.300     -1.298      0.205      -7.688       1.719\n",
      "==============================================================================\n",
      "Omnibus:                        0.351   Durbin-Watson:                   1.654\n",
      "Prob(Omnibus):                  0.839   Jarque-Bera (JB):                0.366\n",
      "Skew:                          -0.224   Prob(JB):                        0.833\n",
      "Kurtosis:                       2.711   Cond. No.                         62.3\n",
      "==============================================================================\n",
      "\n",
      "Warnings:\n",
      "[1] Standard Errors assume that the covariance matrix of the errors is correctly specified.\n",
      "Slope = -2.98\n",
      "t(29) = -1.30\n",
      "P = 0.2046460552\n"
     ]
    }
   ],
   "source": [
    "print('  2.3 Gaze influence')\n",
    "_ = run_linear_model(gaze_influence['glam_nobias'],\n",
    "                     gaze_influence['observed'])\n",
    "write_summary(_, 'results/linear_models/dislike/3_absfit_nobias_gazeinfluence.csv')"
   ]
  },
  {
   "cell_type": "markdown",
   "metadata": {},
   "source": [
    "# Figure 5"
   ]
  },
  {
   "cell_type": "code",
   "execution_count": 24,
   "metadata": {},
   "outputs": [
    {
     "name": "stdout",
     "output_type": "stream",
     "text": [
      "Close Figure to continue...\n"
     ]
    },
    {
     "data": {
      "image/png": "[encoded data removed]",
      "text/plain": [
       "<Figure size 720x252 with 3 Axes>"
      ]
     },
     "metadata": {
      "needs_background": "light"
     },
     "output_type": "display_data"
    }
   ],
   "source": [
    "print('Close Figure to continue...')\n",
    "figure_5(mean_rt, p_choose_best, gaze_influence)\n",
    "plt.savefig('SavedFigures/Dislike_model_fit_simulations.png', dpi=330, bbox_inches='tight')\n",
    "plt.show()"
   ]
  },
  {
   "cell_type": "markdown",
   "metadata": {},
   "source": [
    "Model predictions are simulated from hierarchically estimated parameter estimates. Blue color indicates predictions from the full GLAM, whereas orange indicates predictions from a restricted GLAM variant with no gaze bias (gamma = 1).\n"
   ]
  },
  {
   "cell_type": "code",
   "execution_count": null,
   "metadata": {},
   "outputs": [],
   "source": []
  },
  {
   "cell_type": "code",
   "execution_count": null,
   "metadata": {},
   "outputs": [],
   "source": []
  },
  {
   "cell_type": "code",
   "execution_count": null,
   "metadata": {},
   "outputs": [],
   "source": []
  },
  {
   "cell_type": "code",
   "execution_count": null,
   "metadata": {},
   "outputs": [],
   "source": []
  }
 ],
 "metadata": {
  "kernelspec": {
   "display_name": "Python 3",
   "language": "python",
   "name": "python3"
  },
  "language_info": {
   "codemirror_mode": {
    "name": "ipython",
    "version": 3
   },
   "file_extension": ".py",
   "mimetype": "text/x-python",
   "name": "python",
   "nbconvert_exporter": "python",
   "pygments_lexer": "ipython3",
   "version": "3.7.0"
  }
 },
 "nbformat": 4,
 "nbformat_minor": 2
}
