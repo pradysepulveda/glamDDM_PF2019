{
 "cells": [
  {
   "cell_type": "code",
   "execution_count": 19,
   "metadata": {},
   "outputs": [],
   "source": [
    "import numpy as np\n",
    "import pandas as pd\n",
    "import statsmodels.api as sm\n",
    "from statsmodels.stats.outliers_influence import summary_table\n",
    "\n",
    "# from seaborn import despine\n",
    "import matplotlib.pyplot as plt\n",
    "plt.rc(\"axes.spines\", top=False, right=False)\n",
    "\n",
    "from analysis_functions import compute_gaze_influence, sci_notation, run_linear_model, compute_mean_rt, compute_p_choose_best, write_summary, make_sure_path_exists"
   ]
  },
  {
   "cell_type": "code",
   "execution_count": 20,
   "metadata": {
    "collapsed": true
   },
   "outputs": [],
   "source": [
    "make_sure_path_exists('results/linear_models')"
   ]
  },
  {
   "cell_type": "code",
   "execution_count": 21,
   "metadata": {
    "collapsed": true
   },
   "outputs": [],
   "source": [
    "np.random.seed(52) # from random.org"
   ]
  },
  {
   "cell_type": "markdown",
   "metadata": {},
   "source": [
    "# Absolute model fit (out of sample prediction)\n",
    "# Full Model vs No Bias Model\n",
    "## Like and dislike condition"
   ]
  },
  {
   "cell_type": "code",
   "execution_count": 22,
   "metadata": {},
   "outputs": [
    {
     "name": "stdout",
     "output_type": "stream",
     "text": [
      "Assessing absolute model fit...\n"
     ]
    }
   ],
   "source": [
    "print('Assessing absolute model fit...')"
   ]
  },
  {
   "cell_type": "markdown",
   "metadata": {},
   "source": [
    "### Load plot function"
   ]
  },
  {
   "cell_type": "code",
   "execution_count": 23,
   "metadata": {
    "collapsed": true
   },
   "outputs": [],
   "source": [
    "def plot_correlation(x, y,\n",
    "                     model_names=None,\n",
    "                     xlabel='',\n",
    "                     ylabel='',\n",
    "                     title='',\n",
    "                     ci=0.95,\n",
    "                     xticks=None,\n",
    "                     yticks=None,\n",
    "                     xticklabels=None,\n",
    "                     yticklabels=None,\n",
    "                     xlim=None,\n",
    "                     ylim=None,\n",
    "                     annotation_pos=(0.1, 0.1),\n",
    "                     annotation_halign='left',\n",
    "                     fontsize_title=15,\n",
    "                     fontsize_axeslabel=15,\n",
    "                     fontsize_ticklabels=12,\n",
    "                     fontsize_annotation=12,\n",
    "                     plot_diagonal=False,\n",
    "                     ax=None):\n",
    "\n",
    "    # Defaults\n",
    "    if ax is None:\n",
    "        fig, ax = plt.subplots()\n",
    "    if not isinstance(y, list):\n",
    "        y = [y]\n",
    "    if model_names is None:\n",
    "        model_names = ['Model {}'.format(i)\n",
    "                       for i in range(len(y))]\n",
    "    \n",
    "    for i, yi in enumerate(y):\n",
    "        # Scatter\n",
    "        ax.scatter(x, yi, color='C{}'.format(i), alpha=0.5)\n",
    "\n",
    "        # LM fit\n",
    "        X = sm.add_constant(x)\n",
    "        lm = sm.OLS(yi, X).fit()\n",
    "        intercept, slope = lm.params\n",
    "        table, data, columns = summary_table(lm, alpha=1.-ci)\n",
    "        predicted, mean_ci_lower, mean_ci_upper = data[:, np.array([2, 4, 5])].T\n",
    "\n",
    "         # Annotation\n",
    "        tval = lm.tvalues[-1]\n",
    "        pval = lm.pvalues[-1]\n",
    "        if pval < 0.01:\n",
    "            pstring = ' < ' + sci_notation(pval, decimal_digits=2)\n",
    "        else:\n",
    "            pstring = ' = {:.2f}'.format(pval)\n",
    "        r = np.sign(tval) * np.sqrt(lm.rsquared)\n",
    "        label = ((r'$r = {:.2f}$, '.format(r)) +\n",
    "                  r'$P${}'.format(pstring))\n",
    "        xs = np.linspace(*ax.get_xlim(), 100)\n",
    "        ax.plot(xs, intercept + slope * xs,\n",
    "                color='C{}'.format(i), label=label)\n",
    "        sort_idx = np.argsort(x)\n",
    "        ax.fill_between(x[sort_idx], mean_ci_lower[sort_idx], mean_ci_upper[sort_idx],\n",
    "                        color='C{}'.format(i), alpha=0.1)\n",
    "\n",
    "    ax.legend(loc='best', fontsize=fontsize_annotation, frameon=False)\n",
    "\n",
    "    # Axes, ticks, ...\n",
    "    if xticks is not None:\n",
    "        ax.set_xticks(xticks)\n",
    "    if yticks is not None:\n",
    "        ax.set_yticks(yticks)\n",
    "        \n",
    "    if xticklabels is not None:\n",
    "        ax.set_xticklabels(xticklabels, fontsize=fontsize_ticklabels)\n",
    "    if yticklabels is not None:\n",
    "        ax.set_yticklabels(yticklabels, fontsize=fontsize_ticklabels)\n",
    "\n",
    "    if xlim is not None:\n",
    "        ax.set_xlim(xlim)\n",
    "    if ylim is not None:\n",
    "        ax.set_ylim(ylim)\n",
    "\n",
    "    # Diagonal\n",
    "    if plot_diagonal:\n",
    "        ax.plot([0, 1], [0, 1], transform=ax.transAxes,\n",
    "                color='black', alpha=.5, zorder=-10, lw=2)\n",
    "\n",
    "    # Labels\n",
    "    ax.set_xlabel(xlabel, fontsize=fontsize_axeslabel)\n",
    "    ax.set_ylabel(ylabel, fontsize=fontsize_axeslabel)\n",
    "    ax.set_title(title, fontsize=fontsize_title)\n",
    "#     despine()\n",
    "\n",
    "    return ax"
   ]
  },
  {
   "cell_type": "markdown",
   "metadata": {},
   "source": [
    "# LIKE CONDITION"
   ]
  },
  {
   "cell_type": "markdown",
   "metadata": {},
   "source": [
    "## Load *observed* data (test set) GLAM out of sample *predictions*"
   ]
  },
  {
   "cell_type": "code",
   "execution_count": 24,
   "metadata": {
    "collapsed": true
   },
   "outputs": [],
   "source": [
    "#Like\n",
    "test_data = pd.read_csv('data/FF2018_data/GlamDataFF2018_preprocessed_test_Like_NoBin_NUTS.csv')\n",
    "#Dislike\n",
    "#test_data = pd.read_csv('data/FF2018_data/GlamDataFF2018_preprocessed_test_Dislike_FixBin5_InvInputDislike_NUTS.csv')\n",
    "\n",
    "#Like\n",
    "glam_full = pd.read_csv('results/predictions/glam_FF2018_full_hierarchical_cv_Like_NoBin_NUTS.csv')\n",
    "glam_nobias = pd.read_csv('results/predictions/glam_FF2018_nobias_hierarchical_cv_Like_NoBin_NUTS.csv')\n",
    "\n",
    "#Dislike\n",
    "#glam_full = pd.read_csv('results/predictions/glam_FF2018_full_hierarchical_cv_Dislike_FixBin5_InvInputDislike_NUTS.csv')\n",
    "#glam_nobias = pd.read_csv('results/predictions/glam_FF2018_nobias_hierarchical_cv_Dislike_FixBin5_InvInputDislike_NUTS.csv')"
   ]
  },
  {
   "cell_type": "markdown",
   "metadata": {},
   "source": [
    "# Compute behavioral indices for observed data and predictions"
   ]
  },
  {
   "cell_type": "code",
   "execution_count": 25,
   "metadata": {
    "collapsed": true
   },
   "outputs": [],
   "source": [
    "mean_rt = pd.DataFrame(dict(observed=compute_mean_rt(test_data),\n",
    "                            glam_full=compute_mean_rt(glam_full),\n",
    "                            glam_nobias=compute_mean_rt(glam_nobias)))\n",
    "\n",
    "p_choose_best = pd.DataFrame(dict(observed=compute_p_choose_best(test_data),\n",
    "                            glam_full=compute_p_choose_best(glam_full),\n",
    "                            glam_nobias=compute_p_choose_best(glam_nobias)))\n",
    "\n",
    "gaze_influence = pd.DataFrame(dict(observed=compute_gaze_influence(test_data),\n",
    "                                   glam_full=compute_gaze_influence(glam_full),\n",
    "                                   glam_nobias=compute_gaze_influence(glam_nobias)))"
   ]
  },
  {
   "cell_type": "markdown",
   "metadata": {},
   "source": [
    "## Linear models: Are out of sample data predicted by GLAM variants?\n",
    "\n",
    "### 1. Full GLAM\n",
    "\n",
    "#### 1.1 Mean RT"
   ]
  },
  {
   "cell_type": "code",
   "execution_count": 26,
   "metadata": {},
   "outputs": [
    {
     "name": "stdout",
     "output_type": "stream",
     "text": [
      "  1. Full GLAM...\n",
      "  1.1 Mean RT\n",
      "                            OLS Regression Results                            \n",
      "==============================================================================\n",
      "Dep. Variable:               observed   R-squared:                       0.914\n",
      "Model:                            OLS   Adj. R-squared:                  0.912\n",
      "Method:                 Least Squares   F-statistic:                     331.0\n",
      "Date:                Tue, 27 Nov 2018   Prob (F-statistic):           4.23e-18\n",
      "Time:                        20:51:31   Log-Likelihood:                -227.23\n",
      "No. Observations:                  33   AIC:                             458.5\n",
      "Df Residuals:                      31   BIC:                             461.5\n",
      "Df Model:                           1                                         \n",
      "Covariance Type:            nonrobust                                         \n",
      "==============================================================================\n",
      "                 coef    std err          t      P>|t|      [0.025      0.975]\n",
      "------------------------------------------------------------------------------\n",
      "const       -383.9400    179.735     -2.136      0.041    -750.511     -17.369\n",
      "glam_full      1.2043      0.066     18.194      0.000       1.069       1.339\n",
      "==============================================================================\n",
      "Omnibus:                        9.091   Durbin-Watson:                   2.747\n",
      "Prob(Omnibus):                  0.011   Jarque-Bera (JB):                7.782\n",
      "Skew:                           0.976   Prob(JB):                       0.0204\n",
      "Kurtosis:                       4.361   Cond. No.                     1.15e+04\n",
      "==============================================================================\n",
      "\n",
      "Warnings:\n",
      "[1] Standard Errors assume that the covariance matrix of the errors is correctly specified.\n",
      "[2] The condition number is large, 1.15e+04. This might indicate that there are\n",
      "strong multicollinearity or other numerical problems.\n",
      "Slope = 1.20\n",
      "t(31) = 18.19\n",
      "P = 0.0000000000\n"
     ]
    }
   ],
   "source": [
    "print('  1. Full GLAM...')\n",
    "print('  1.1 Mean RT')\n",
    "_ = run_linear_model(mean_rt['glam_full'],\n",
    "                     mean_rt['observed'])\n",
    "write_summary(_, 'results/linear_models/like/3_absfit_fullglam_rt.csv')"
   ]
  },
  {
   "cell_type": "markdown",
   "metadata": {},
   "source": [
    "#### 1.2 P(choose best)"
   ]
  },
  {
   "cell_type": "code",
   "execution_count": 27,
   "metadata": {},
   "outputs": [
    {
     "name": "stdout",
     "output_type": "stream",
     "text": [
      "  1.2 P(choose best)\n",
      "                            OLS Regression Results                            \n",
      "==============================================================================\n",
      "Dep. Variable:               observed   R-squared:                       0.749\n",
      "Model:                            OLS   Adj. R-squared:                  0.741\n",
      "Method:                 Least Squares   F-statistic:                     92.57\n",
      "Date:                Tue, 27 Nov 2018   Prob (F-statistic):           8.00e-11\n",
      "Time:                        20:51:31   Log-Likelihood:                 44.988\n",
      "No. Observations:                  33   AIC:                            -85.98\n",
      "Df Residuals:                      31   BIC:                            -82.98\n",
      "Df Model:                           1                                         \n",
      "Covariance Type:            nonrobust                                         \n",
      "==============================================================================\n",
      "                 coef    std err          t      P>|t|      [0.025      0.975]\n",
      "------------------------------------------------------------------------------\n",
      "const         -0.0144      0.076     -0.190      0.850      -0.168       0.140\n",
      "glam_full      1.0363      0.108      9.621      0.000       0.817       1.256\n",
      "==============================================================================\n",
      "Omnibus:                        0.243   Durbin-Watson:                   2.055\n",
      "Prob(Omnibus):                  0.886   Jarque-Bera (JB):                0.148\n",
      "Skew:                          -0.148   Prob(JB):                        0.929\n",
      "Kurtosis:                       2.859   Cond. No.                         14.4\n",
      "==============================================================================\n",
      "\n",
      "Warnings:\n",
      "[1] Standard Errors assume that the covariance matrix of the errors is correctly specified.\n",
      "Slope = 1.04\n",
      "t(31) = 9.62\n",
      "P = 0.0000000001\n"
     ]
    }
   ],
   "source": [
    "print('  1.2 P(choose best)')\n",
    "_ = run_linear_model(p_choose_best['glam_full'],\n",
    "                     p_choose_best['observed'])\n",
    "write_summary(_, 'results/linear_models/like/3_absfit_fullglam_pchoosebest.csv')"
   ]
  },
  {
   "cell_type": "markdown",
   "metadata": {},
   "source": [
    "#### 1.3 Gaze influence on P(choose left)"
   ]
  },
  {
   "cell_type": "code",
   "execution_count": 28,
   "metadata": {},
   "outputs": [
    {
     "name": "stdout",
     "output_type": "stream",
     "text": [
      "  1.3 Gaze Influence\n",
      "                            OLS Regression Results                            \n",
      "==============================================================================\n",
      "Dep. Variable:               observed   R-squared:                       0.595\n",
      "Model:                            OLS   Adj. R-squared:                  0.582\n",
      "Method:                 Least Squares   F-statistic:                     45.54\n",
      "Date:                Tue, 27 Nov 2018   Prob (F-statistic):           1.49e-07\n",
      "Time:                        20:51:31   Log-Likelihood:                 19.809\n",
      "No. Observations:                  33   AIC:                            -35.62\n",
      "Df Residuals:                      31   BIC:                            -32.62\n",
      "Df Model:                           1                                         \n",
      "Covariance Type:            nonrobust                                         \n",
      "==============================================================================\n",
      "                 coef    std err          t      P>|t|      [0.025      0.975]\n",
      "------------------------------------------------------------------------------\n",
      "const          0.1062      0.049      2.151      0.039       0.005       0.207\n",
      "glam_full      0.8441      0.125      6.748      0.000       0.589       1.099\n",
      "==============================================================================\n",
      "Omnibus:                        0.353   Durbin-Watson:                   1.558\n",
      "Prob(Omnibus):                  0.838   Jarque-Bera (JB):                0.015\n",
      "Skew:                          -0.042   Prob(JB):                        0.992\n",
      "Kurtosis:                       3.064   Cond. No.                         5.89\n",
      "==============================================================================\n",
      "\n",
      "Warnings:\n",
      "[1] Standard Errors assume that the covariance matrix of the errors is correctly specified.\n",
      "Slope = 0.84\n",
      "t(31) = 6.75\n",
      "P = 0.0000001490\n"
     ]
    }
   ],
   "source": [
    "print('  1.3 Gaze Influence')\n",
    "_ = run_linear_model(gaze_influence['glam_full'],\n",
    "                     gaze_influence['observed'])\n",
    "write_summary(_, 'results/linear_models/like/3_absfit_fullglam_gazeinfluence.csv')"
   ]
  },
  {
   "cell_type": "markdown",
   "metadata": {},
   "source": [
    "### 2. No-Bias GLAM\n",
    "\n",
    "#### 2.1 Mean RT"
   ]
  },
  {
   "cell_type": "code",
   "execution_count": 29,
   "metadata": {},
   "outputs": [
    {
     "name": "stdout",
     "output_type": "stream",
     "text": [
      "  2. No-Bias GLAM\n",
      "  2.1 Mean RT\n",
      "                            OLS Regression Results                            \n",
      "==============================================================================\n",
      "Dep. Variable:               observed   R-squared:                       0.509\n",
      "Model:                            OLS   Adj. R-squared:                  0.493\n",
      "Method:                 Least Squares   F-statistic:                     32.11\n",
      "Date:                Tue, 27 Nov 2018   Prob (F-statistic):           3.18e-06\n",
      "Time:                        20:51:31   Log-Likelihood:                -256.06\n",
      "No. Observations:                  33   AIC:                             516.1\n",
      "Df Residuals:                      31   BIC:                             519.1\n",
      "Df Model:                           1                                         \n",
      "Covariance Type:            nonrobust                                         \n",
      "===============================================================================\n",
      "                  coef    std err          t      P>|t|      [0.025      0.975]\n",
      "-------------------------------------------------------------------------------\n",
      "const        1030.7773    327.298      3.149      0.004     363.250    1698.305\n",
      "glam_nobias     0.6670      0.118      5.666      0.000       0.427       0.907\n",
      "==============================================================================\n",
      "Omnibus:                       42.914   Durbin-Watson:                   1.571\n",
      "Prob(Omnibus):                  0.000   Jarque-Bera (JB):              163.346\n",
      "Skew:                           2.844   Prob(JB):                     3.39e-36\n",
      "Kurtosis:                      12.297   Cond. No.                     8.94e+03\n",
      "==============================================================================\n",
      "\n",
      "Warnings:\n",
      "[1] Standard Errors assume that the covariance matrix of the errors is correctly specified.\n",
      "[2] The condition number is large, 8.94e+03. This might indicate that there are\n",
      "strong multicollinearity or other numerical problems.\n",
      "Slope = 0.67\n",
      "t(31) = 5.67\n",
      "P = 0.0000031792\n"
     ]
    }
   ],
   "source": [
    "print('  2. No-Bias GLAM')\n",
    "print('  2.1 Mean RT')\n",
    "_ = run_linear_model(mean_rt['glam_nobias'],\n",
    "                     mean_rt['observed'])\n",
    "write_summary(_, 'results/linear_models/like/3_absfit_nobias_rt.csv')"
   ]
  },
  {
   "cell_type": "markdown",
   "metadata": {},
   "source": [
    "#### 2.2 P(choose best)"
   ]
  },
  {
   "cell_type": "code",
   "execution_count": 30,
   "metadata": {},
   "outputs": [
    {
     "name": "stdout",
     "output_type": "stream",
     "text": [
      "  2.2 P(choose best)\n",
      "                            OLS Regression Results                            \n",
      "==============================================================================\n",
      "Dep. Variable:               observed   R-squared:                       0.472\n",
      "Model:                            OLS   Adj. R-squared:                  0.455\n",
      "Method:                 Least Squares   F-statistic:                     27.73\n",
      "Date:                Tue, 27 Nov 2018   Prob (F-statistic):           1.00e-05\n",
      "Time:                        20:51:31   Log-Likelihood:                 32.715\n",
      "No. Observations:                  33   AIC:                            -61.43\n",
      "Df Residuals:                      31   BIC:                            -58.44\n",
      "Df Model:                           1                                         \n",
      "Covariance Type:            nonrobust                                         \n",
      "===============================================================================\n",
      "                  coef    std err          t      P>|t|      [0.025      0.975]\n",
      "-------------------------------------------------------------------------------\n",
      "const           0.1218      0.112      1.089      0.284      -0.106       0.350\n",
      "glam_nobias     0.8116      0.154      5.266      0.000       0.497       1.126\n",
      "==============================================================================\n",
      "Omnibus:                        0.987   Durbin-Watson:                   1.882\n",
      "Prob(Omnibus):                  0.611   Jarque-Bera (JB):                0.219\n",
      "Skew:                           0.000   Prob(JB):                        0.896\n",
      "Kurtosis:                       3.399   Cond. No.                         14.5\n",
      "==============================================================================\n",
      "\n",
      "Warnings:\n",
      "[1] Standard Errors assume that the covariance matrix of the errors is correctly specified.\n",
      "Slope = 0.81\n",
      "t(31) = 5.27\n",
      "P = 0.0000100175\n"
     ]
    }
   ],
   "source": [
    "print('  2.2 P(choose best)')\n",
    "_ = run_linear_model(p_choose_best['glam_nobias'],\n",
    "                     p_choose_best['observed'])\n",
    "write_summary(_, 'results/linear_models/like/3_absfit_nobias_pchoosebest.csv')"
   ]
  },
  {
   "cell_type": "markdown",
   "metadata": {},
   "source": [
    "#### 2.3 Gaze influence on P(choose left)"
   ]
  },
  {
   "cell_type": "code",
   "execution_count": 31,
   "metadata": {},
   "outputs": [
    {
     "name": "stdout",
     "output_type": "stream",
     "text": [
      "  2.3 Gaze influence\n",
      "                            OLS Regression Results                            \n",
      "==============================================================================\n",
      "Dep. Variable:               observed   R-squared:                       0.027\n",
      "Model:                            OLS   Adj. R-squared:                 -0.005\n",
      "Method:                 Least Squares   F-statistic:                    0.8529\n",
      "Date:                Tue, 27 Nov 2018   Prob (F-statistic):              0.363\n",
      "Time:                        20:51:31   Log-Likelihood:                 5.3441\n",
      "No. Observations:                  33   AIC:                            -6.688\n",
      "Df Residuals:                      31   BIC:                            -3.695\n",
      "Df Model:                           1                                         \n",
      "Covariance Type:            nonrobust                                         \n",
      "===============================================================================\n",
      "                  coef    std err          t      P>|t|      [0.025      0.975]\n",
      "-------------------------------------------------------------------------------\n",
      "const           0.4016      0.037     10.800      0.000       0.326       0.477\n",
      "glam_nobias    -2.0526      2.223     -0.924      0.363      -6.586       2.480\n",
      "==============================================================================\n",
      "Omnibus:                        1.209   Durbin-Watson:                   1.584\n",
      "Prob(Omnibus):                  0.546   Jarque-Bera (JB):                0.724\n",
      "Skew:                          -0.363   Prob(JB):                        0.696\n",
      "Kurtosis:                       3.018   Cond. No.                         60.1\n",
      "==============================================================================\n",
      "\n",
      "Warnings:\n",
      "[1] Standard Errors assume that the covariance matrix of the errors is correctly specified.\n",
      "Slope = -2.05\n",
      "t(31) = -0.92\n",
      "P = 0.3628571966\n"
     ]
    }
   ],
   "source": [
    "print('  2.3 Gaze influence')\n",
    "_ = run_linear_model(gaze_influence['glam_nobias'],\n",
    "                     gaze_influence['observed'])\n",
    "write_summary(_, 'results/linear_models/like/3_absfit_nobias_gazeinfluence.csv')"
   ]
  },
  {
   "cell_type": "markdown",
   "metadata": {},
   "source": [
    "# Figure 5"
   ]
  },
  {
   "cell_type": "code",
   "execution_count": 32,
   "metadata": {
    "collapsed": true
   },
   "outputs": [],
   "source": [
    "def figure_5(mean_rt, p_choose_best, gaze_influence, figsize=(10, 3.5)):\n",
    "\n",
    "    fig, axs = plt.subplots(1, 3, figsize=figsize)\n",
    "\n",
    "    plot_correlation(mean_rt['observed'].values,\n",
    "                     [mean_rt['glam_full'].values, mean_rt['glam_nobias'].values],\n",
    "                     model_names=['Full', r'$\\theta = 1$'],\n",
    "                     xlabel='Observed',\n",
    "                     ylabel='Predicted',\n",
    "                     title='Mean RT (ms)',\n",
    "                     xlim=[0, 6500],\n",
    "                     ylim=[0, 6500],\n",
    "                     xticks=np.arange(0, 7000, 1000),\n",
    "                     yticks=np.arange(0, 7000, 1000),\n",
    "                     xticklabels=['0', '', '2000', '', '4000', '', '6000'],\n",
    "                     yticklabels=['0', '', '2000', '', '4000', '', '6000'],\n",
    "                     fontsize_axeslabel=15,\n",
    "                     fontsize_ticklabels=12,\n",
    "                     fontsize_title=15,\n",
    "                     fontsize_annotation=8,\n",
    "                     ax=axs[0], plot_diagonal=True)\n",
    "\n",
    "    plot_correlation(p_choose_best['observed'].values,\n",
    "                     [p_choose_best['glam_full'].values, p_choose_best['glam_nobias'].values],\n",
    "                     model_names=['Full', r'$\\theta = 1$'],\n",
    "                     xlabel='Observed',\n",
    "                     ylabel='Predicted',\n",
    "                     title='P(choose best)',\n",
    "                     xlim=[0.45, 1.05],\n",
    "                     ylim=[0.45, 1.05],\n",
    "                     xticks=np.arange(0.4, 1.1, 0.1),\n",
    "                     yticks=np.arange(0.4, 1.1, 0.1),\n",
    "                     xticklabels=['0.4', '0.5', '0.6', '0.7', '0.8', '0.9', '1.0'],\n",
    "                     yticklabels=['0.4', '0.5', '0.6', '0.7', '0.8', '0.9', '1.0'],\n",
    "                     fontsize_axeslabel=15,\n",
    "                     fontsize_ticklabels=12,\n",
    "                     fontsize_title=15,\n",
    "                     fontsize_annotation=8,\n",
    "                     ax=axs[1], plot_diagonal=True)\n",
    "\n",
    "    plot_correlation(gaze_influence['observed'].values,\n",
    "                     [gaze_influence['glam_full'].values, gaze_influence['glam_nobias'].values],\n",
    "                     model_names=['Full', r'$\\theta = 1$'],\n",
    "                     xlabel='Observed',\n",
    "                     ylabel='Predicted',\n",
    "                     title='Gaze influence\\non P(choose left)',\n",
    "                     xticks=np.arange(-0.1, 0.7, 0.1),\n",
    "                     yticks=np.arange(-0.1, 0.7, 0.1),\n",
    "                     xticklabels=['-0.1', '0', '0.1', '0.2', '0.3', '0.4', '0.5', '0.6'],\n",
    "                     yticklabels=['-0.1', '0', '0.1', '0.2', '0.3', '0.4', '0.5', '0.6'],\n",
    "                     xlim=[-0.125, 0.625],\n",
    "                     ylim=[-0.125, 0.625],\n",
    "                     fontsize_axeslabel=15,\n",
    "                     fontsize_ticklabels=12,\n",
    "                     fontsize_title=15,\n",
    "                     fontsize_annotation=8,\n",
    "                     ax=axs[2], plot_diagonal=True)\n",
    "\n",
    "    # index axes\n",
    "    for label, ax in zip(list('ABC'), axs.ravel()):\n",
    "        ax.text(-0.1, 1.15, label, transform=ax.transAxes,\n",
    "                fontsize=20, fontweight='bold', va='top')\n",
    "\n",
    "    fig.tight_layout()\n",
    "\n",
    "    return None"
   ]
  },
  {
   "cell_type": "code",
   "execution_count": 33,
   "metadata": {},
   "outputs": [
    {
     "name": "stdout",
     "output_type": "stream",
     "text": [
      "Close Figure to continue...\n"
     ]
    },
    {
     "data": {
      "image/png": "[encoded data removed]",
      "text/plain": [
       "<matplotlib.figure.Figure at 0x109fb1ac8>"
      ]
     },
     "metadata": {},
     "output_type": "display_data"
    }
   ],
   "source": [
    "print('Close Figure to continue...')\n",
    "figure_5(mean_rt, p_choose_best, gaze_influence)\n",
    "plt.savefig('SavedFigures/Like_model_fit_simulations.png', dpi=330, bbox_inches='tight')\n",
    "plt.show()"
   ]
  },
  {
   "cell_type": "markdown",
   "metadata": {},
   "source": [
    "Model predictions are simulated from hierarchically estimated parameter estimates. Blue color indicates predictions from the full GLAM, whereas orange indicates predictions from a restricted GLAM variant with no gaze bias (gamma = 1).\n"
   ]
  },
  {
   "cell_type": "markdown",
   "metadata": {},
   "source": [
    "# DISLIKE CONDITION"
   ]
  },
  {
   "cell_type": "markdown",
   "metadata": {},
   "source": [
    "## Load *observed* data (test set) GLAM out of sample *predictions*"
   ]
  },
  {
   "cell_type": "code",
   "execution_count": 34,
   "metadata": {
    "collapsed": true
   },
   "outputs": [],
   "source": [
    "#Like\n",
    "#test_data = pd.read_csv('data/FF2018_data/GlamDataFF2018_preprocessed_test_Like_FixBin5_NUTS.csv')\n",
    "#Dislike\n",
    "test_data = pd.read_csv('data/FF2018_data/GlamDataFF2018_preprocessed_test_Dislike_NoBin_InvInputDislike_NUTS.csv')\n",
    "\n",
    "#Like\n",
    "#glam_full = pd.read_csv('results/predictions/glam_FF2018_full_hierarchical_cv_Like_FixBin5_NUTS.csv')\n",
    "#glam_nobias = pd.read_csv('results/predictions/glam_FF2018_nobias_hierarchical_cv_Like_FixBin5_NUTS.csv')\n",
    "\n",
    "#Dislike\n",
    "glam_full = pd.read_csv('results/predictions/glam_FF2018_full_hierarchical_cv_Dislike_NoBin_InvInputDislike_NUTS.csv')\n",
    "glam_nobias = pd.read_csv('results/predictions/glam_FF2018_nobias_hierarchical_cv_Dislike_NoBin_InvInputDislike_NUTS.csv')"
   ]
  },
  {
   "cell_type": "markdown",
   "metadata": {},
   "source": [
    "# Compute behavioral indices for observed data and predictions"
   ]
  },
  {
   "cell_type": "code",
   "execution_count": 35,
   "metadata": {
    "collapsed": true
   },
   "outputs": [],
   "source": [
    "mean_rt = pd.DataFrame(dict(observed=compute_mean_rt(test_data),\n",
    "                            glam_full=compute_mean_rt(glam_full),\n",
    "                            glam_nobias=compute_mean_rt(glam_nobias)))\n",
    "\n",
    "p_choose_best = pd.DataFrame(dict(observed=compute_p_choose_best(test_data),\n",
    "                            glam_full=compute_p_choose_best(glam_full),\n",
    "                            glam_nobias=compute_p_choose_best(glam_nobias)))\n",
    "\n",
    "gaze_influence = pd.DataFrame(dict(observed=compute_gaze_influence(test_data),\n",
    "                                   glam_full=compute_gaze_influence(glam_full),\n",
    "                                   glam_nobias=compute_gaze_influence(glam_nobias)))"
   ]
  },
  {
   "cell_type": "markdown",
   "metadata": {},
   "source": [
    "## Linear models: Are out of sample data predicted by GLAM variants?\n",
    "\n",
    "### 1. Full GLAM\n",
    "\n",
    "#### 1.1 Mean RT"
   ]
  },
  {
   "cell_type": "code",
   "execution_count": 36,
   "metadata": {},
   "outputs": [
    {
     "name": "stdout",
     "output_type": "stream",
     "text": [
      "  1. Full GLAM...\n",
      "  1.1 Mean RT\n",
      "                            OLS Regression Results                            \n",
      "==============================================================================\n",
      "Dep. Variable:               observed   R-squared:                       0.844\n",
      "Model:                            OLS   Adj. R-squared:                  0.839\n",
      "Method:                 Least Squares   F-statistic:                     167.6\n",
      "Date:                Tue, 27 Nov 2018   Prob (F-statistic):           4.83e-14\n",
      "Time:                        20:51:36   Log-Likelihood:                -232.20\n",
      "No. Observations:                  33   AIC:                             468.4\n",
      "Df Residuals:                      31   BIC:                             471.4\n",
      "Df Model:                           1                                         \n",
      "Covariance Type:            nonrobust                                         \n",
      "==============================================================================\n",
      "                 coef    std err          t      P>|t|      [0.025      0.975]\n",
      "------------------------------------------------------------------------------\n",
      "const         34.4925    244.439      0.141      0.889    -464.043     533.028\n",
      "glam_full      1.0452      0.081     12.947      0.000       0.881       1.210\n",
      "==============================================================================\n",
      "Omnibus:                        2.392   Durbin-Watson:                   1.382\n",
      "Prob(Omnibus):                  0.302   Jarque-Bera (JB):                1.932\n",
      "Skew:                           0.587   Prob(JB):                        0.381\n",
      "Kurtosis:                       2.834   Cond. No.                     1.50e+04\n",
      "==============================================================================\n",
      "\n",
      "Warnings:\n",
      "[1] Standard Errors assume that the covariance matrix of the errors is correctly specified.\n",
      "[2] The condition number is large, 1.5e+04. This might indicate that there are\n",
      "strong multicollinearity or other numerical problems.\n",
      "Slope = 1.05\n",
      "t(31) = 12.95\n",
      "P = 0.0000000000\n"
     ]
    }
   ],
   "source": [
    "print('  1. Full GLAM...')\n",
    "print('  1.1 Mean RT')\n",
    "_ = run_linear_model(mean_rt['glam_full'],\n",
    "                     mean_rt['observed'])\n",
    "write_summary(_, 'results/linear_models/dislike/3_absfit_fullglam_rt.csv')"
   ]
  },
  {
   "cell_type": "markdown",
   "metadata": {},
   "source": [
    "#### 1.2 P(choose best)"
   ]
  },
  {
   "cell_type": "code",
   "execution_count": 37,
   "metadata": {},
   "outputs": [
    {
     "name": "stdout",
     "output_type": "stream",
     "text": [
      "  1.2 P(choose best)\n",
      "                            OLS Regression Results                            \n",
      "==============================================================================\n",
      "Dep. Variable:               observed   R-squared:                       0.751\n",
      "Model:                            OLS   Adj. R-squared:                  0.743\n",
      "Method:                 Least Squares   F-statistic:                     93.51\n",
      "Date:                Tue, 27 Nov 2018   Prob (F-statistic):           7.10e-11\n",
      "Time:                        20:51:36   Log-Likelihood:                 42.932\n",
      "No. Observations:                  33   AIC:                            -81.86\n",
      "Df Residuals:                      31   BIC:                            -78.87\n",
      "Df Model:                           1                                         \n",
      "Covariance Type:            nonrobust                                         \n",
      "==============================================================================\n",
      "                 coef    std err          t      P>|t|      [0.025      0.975]\n",
      "------------------------------------------------------------------------------\n",
      "const         -0.0452      0.076     -0.596      0.555      -0.200       0.109\n",
      "glam_full      1.0845      0.112      9.670      0.000       0.856       1.313\n",
      "==============================================================================\n",
      "Omnibus:                        0.451   Durbin-Watson:                   1.631\n",
      "Prob(Omnibus):                  0.798   Jarque-Bera (JB):                0.534\n",
      "Skew:                          -0.244   Prob(JB):                        0.766\n",
      "Kurtosis:                       2.614   Cond. No.                         13.7\n",
      "==============================================================================\n",
      "\n",
      "Warnings:\n",
      "[1] Standard Errors assume that the covariance matrix of the errors is correctly specified.\n",
      "Slope = 1.08\n",
      "t(31) = 9.67\n",
      "P = 0.0000000001\n"
     ]
    }
   ],
   "source": [
    "print('  1.2 P(choose best)')\n",
    "_ = run_linear_model(p_choose_best['glam_full'],\n",
    "                     p_choose_best['observed'])\n",
    "write_summary(_, 'results/linear_models/dislike/3_absfit_fullglam_pchoosebest.csv')"
   ]
  },
  {
   "cell_type": "markdown",
   "metadata": {},
   "source": [
    "#### 1.3 Gaze influence on P(choose left)"
   ]
  },
  {
   "cell_type": "code",
   "execution_count": 38,
   "metadata": {},
   "outputs": [
    {
     "name": "stdout",
     "output_type": "stream",
     "text": [
      "  1.3 Gaze Influence\n",
      "                            OLS Regression Results                            \n",
      "==============================================================================\n",
      "Dep. Variable:               observed   R-squared:                       0.496\n",
      "Model:                            OLS   Adj. R-squared:                  0.480\n",
      "Method:                 Least Squares   F-statistic:                     30.56\n",
      "Date:                Tue, 27 Nov 2018   Prob (F-statistic):           4.72e-06\n",
      "Time:                        20:51:37   Log-Likelihood:                 16.489\n",
      "No. Observations:                  33   AIC:                            -28.98\n",
      "Df Residuals:                      31   BIC:                            -25.98\n",
      "Df Model:                           1                                         \n",
      "Covariance Type:            nonrobust                                         \n",
      "==============================================================================\n",
      "                 coef    std err          t      P>|t|      [0.025      0.975]\n",
      "------------------------------------------------------------------------------\n",
      "const          0.0579      0.063      0.920      0.365      -0.070       0.186\n",
      "glam_full      0.7589      0.137      5.528      0.000       0.479       1.039\n",
      "==============================================================================\n",
      "Omnibus:                       11.952   Durbin-Watson:                   2.103\n",
      "Prob(Omnibus):                  0.003   Jarque-Bera (JB):               12.671\n",
      "Skew:                          -1.049   Prob(JB):                      0.00177\n",
      "Kurtosis:                       5.193   Cond. No.                         6.14\n",
      "==============================================================================\n",
      "\n",
      "Warnings:\n",
      "[1] Standard Errors assume that the covariance matrix of the errors is correctly specified.\n",
      "Slope = 0.76\n",
      "t(31) = 5.53\n",
      "P = 0.0000047201\n"
     ]
    }
   ],
   "source": [
    "print('  1.3 Gaze Influence')\n",
    "_ = run_linear_model(gaze_influence['glam_full'],\n",
    "                     gaze_influence['observed'])\n",
    "write_summary(_, 'results/linear_models/dislike/3_absfit_fullglam_gazeinfluence.csv')"
   ]
  },
  {
   "cell_type": "markdown",
   "metadata": {},
   "source": [
    "### 2. No-Bias GLAM\n",
    "\n",
    "#### 2.1 Mean RT"
   ]
  },
  {
   "cell_type": "code",
   "execution_count": 39,
   "metadata": {},
   "outputs": [
    {
     "name": "stdout",
     "output_type": "stream",
     "text": [
      "  2. No-Bias GLAM\n",
      "  2.1 Mean RT\n",
      "                            OLS Regression Results                            \n",
      "==============================================================================\n",
      "Dep. Variable:               observed   R-squared:                       0.839\n",
      "Model:                            OLS   Adj. R-squared:                  0.834\n",
      "Method:                 Least Squares   F-statistic:                     161.5\n",
      "Date:                Tue, 27 Nov 2018   Prob (F-statistic):           7.85e-14\n",
      "Time:                        20:51:37   Log-Likelihood:                -232.71\n",
      "No. Observations:                  33   AIC:                             469.4\n",
      "Df Residuals:                      31   BIC:                             472.4\n",
      "Df Model:                           1                                         \n",
      "Covariance Type:            nonrobust                                         \n",
      "===============================================================================\n",
      "                  coef    std err          t      P>|t|      [0.025      0.975]\n",
      "-------------------------------------------------------------------------------\n",
      "const        -232.5931    269.607     -0.863      0.395    -782.460     317.274\n",
      "glam_nobias     1.1356      0.089     12.709      0.000       0.953       1.318\n",
      "==============================================================================\n",
      "Omnibus:                        2.839   Durbin-Watson:                   1.423\n",
      "Prob(Omnibus):                  0.242   Jarque-Bera (JB):                2.400\n",
      "Skew:                           0.651   Prob(JB):                        0.301\n",
      "Kurtosis:                       2.774   Cond. No.                     1.62e+04\n",
      "==============================================================================\n",
      "\n",
      "Warnings:\n",
      "[1] Standard Errors assume that the covariance matrix of the errors is correctly specified.\n",
      "[2] The condition number is large, 1.62e+04. This might indicate that there are\n",
      "strong multicollinearity or other numerical problems.\n",
      "Slope = 1.14\n",
      "t(31) = 12.71\n",
      "P = 0.0000000000\n"
     ]
    }
   ],
   "source": [
    "print('  2. No-Bias GLAM')\n",
    "print('  2.1 Mean RT')\n",
    "_ = run_linear_model(mean_rt['glam_nobias'],\n",
    "                     mean_rt['observed'])\n",
    "write_summary(_, 'results/linear_models/dislike/3_absfit_nobias_rt.csv')"
   ]
  },
  {
   "cell_type": "markdown",
   "metadata": {},
   "source": [
    "#### 2.2 P(choose best)"
   ]
  },
  {
   "cell_type": "code",
   "execution_count": 40,
   "metadata": {},
   "outputs": [
    {
     "name": "stdout",
     "output_type": "stream",
     "text": [
      "  2.2 P(choose best)\n",
      "                            OLS Regression Results                            \n",
      "==============================================================================\n",
      "Dep. Variable:               observed   R-squared:                       0.619\n",
      "Model:                            OLS   Adj. R-squared:                  0.607\n",
      "Method:                 Least Squares   F-statistic:                     50.36\n",
      "Date:                Tue, 27 Nov 2018   Prob (F-statistic):           5.67e-08\n",
      "Time:                        20:51:37   Log-Likelihood:                 35.912\n",
      "No. Observations:                  33   AIC:                            -67.82\n",
      "Df Residuals:                      31   BIC:                            -64.83\n",
      "Df Model:                           1                                         \n",
      "Covariance Type:            nonrobust                                         \n",
      "===============================================================================\n",
      "                  coef    std err          t      P>|t|      [0.025      0.975]\n",
      "-------------------------------------------------------------------------------\n",
      "const          -0.0039      0.097     -0.040      0.968      -0.202       0.194\n",
      "glam_nobias     1.0159      0.143      7.097      0.000       0.724       1.308\n",
      "==============================================================================\n",
      "Omnibus:                        0.390   Durbin-Watson:                   1.573\n",
      "Prob(Omnibus):                  0.823   Jarque-Bera (JB):                0.536\n",
      "Skew:                          -0.026   Prob(JB):                        0.765\n",
      "Kurtosis:                       2.378   Cond. No.                         14.2\n",
      "==============================================================================\n",
      "\n",
      "Warnings:\n",
      "[1] Standard Errors assume that the covariance matrix of the errors is correctly specified.\n",
      "Slope = 1.02\n",
      "t(31) = 7.10\n",
      "P = 0.0000000567\n"
     ]
    }
   ],
   "source": [
    "print('  2.2 P(choose best)')\n",
    "_ = run_linear_model(p_choose_best['glam_nobias'],\n",
    "                     p_choose_best['observed'])\n",
    "write_summary(_, 'results/linear_models/dislike/3_absfit_nobias_pchoosebest.csv')"
   ]
  },
  {
   "cell_type": "markdown",
   "metadata": {},
   "source": [
    "#### 2.3 Gaze influence on P(choose left)"
   ]
  },
  {
   "cell_type": "code",
   "execution_count": 41,
   "metadata": {},
   "outputs": [
    {
     "name": "stdout",
     "output_type": "stream",
     "text": [
      "  2.3 Gaze influence\n",
      "                            OLS Regression Results                            \n",
      "==============================================================================\n",
      "Dep. Variable:               observed   R-squared:                       0.008\n",
      "Model:                            OLS   Adj. R-squared:                 -0.024\n",
      "Method:                 Least Squares   F-statistic:                    0.2573\n",
      "Date:                Tue, 27 Nov 2018   Prob (F-statistic):              0.616\n",
      "Time:                        20:51:37   Log-Likelihood:                 5.3050\n",
      "No. Observations:                  33   AIC:                            -6.610\n",
      "Df Residuals:                      31   BIC:                            -3.617\n",
      "Df Model:                           1                                         \n",
      "Covariance Type:            nonrobust                                         \n",
      "===============================================================================\n",
      "                  coef    std err          t      P>|t|      [0.025      0.975]\n",
      "-------------------------------------------------------------------------------\n",
      "const           0.3740      0.037     10.106      0.000       0.299       0.450\n",
      "glam_nobias    -1.0961      2.161     -0.507      0.616      -5.504       3.312\n",
      "==============================================================================\n",
      "Omnibus:                        1.779   Durbin-Watson:                   1.538\n",
      "Prob(Omnibus):                  0.411   Jarque-Bera (JB):                1.222\n",
      "Skew:                          -0.471   Prob(JB):                        0.543\n",
      "Kurtosis:                       2.989   Cond. No.                         58.4\n",
      "==============================================================================\n",
      "\n",
      "Warnings:\n",
      "[1] Standard Errors assume that the covariance matrix of the errors is correctly specified.\n",
      "Slope = -1.10\n",
      "t(31) = -0.51\n",
      "P = 0.6156031350\n"
     ]
    }
   ],
   "source": [
    "print('  2.3 Gaze influence')\n",
    "_ = run_linear_model(gaze_influence['glam_nobias'],\n",
    "                     gaze_influence['observed'])\n",
    "write_summary(_, 'results/linear_models/dislike/3_absfit_nobias_gazeinfluence.csv')"
   ]
  },
  {
   "cell_type": "markdown",
   "metadata": {},
   "source": [
    "# Figure 5"
   ]
  },
  {
   "cell_type": "code",
   "execution_count": 42,
   "metadata": {},
   "outputs": [
    {
     "name": "stdout",
     "output_type": "stream",
     "text": [
      "Close Figure to continue...\n"
     ]
    },
    {
     "data": {
      "image/png": "[encoded data removed]",
      "text/plain": [
       "<matplotlib.figure.Figure at 0x1c118e0d30>"
      ]
     },
     "metadata": {},
     "output_type": "display_data"
    }
   ],
   "source": [
    "print('Close Figure to continue...')\n",
    "figure_5(mean_rt, p_choose_best, gaze_influence)\n",
    "plt.savefig('SavedFigures/Dislike_model_fit_simulations.png', dpi=330, bbox_inches='tight')\n",
    "plt.show()"
   ]
  },
  {
   "cell_type": "markdown",
   "metadata": {},
   "source": [
    "Model predictions are simulated from hierarchically estimated parameter estimates. Blue color indicates predictions from the full GLAM, whereas orange indicates predictions from a restricted GLAM variant with no gaze bias (gamma = 1).\n"
   ]
  },
  {
   "cell_type": "code",
   "execution_count": null,
   "metadata": {},
   "outputs": [],
   "source": []
  }
 ],
 "metadata": {
  "kernelspec": {
   "display_name": "Python 3",
   "language": "python",
   "name": "python3"
  },
  "language_info": {
   "codemirror_mode": {
    "name": "ipython",
    "version": 3
   },
   "file_extension": ".py",
   "mimetype": "text/x-python",
   "name": "python",
   "nbconvert_exporter": "python",
   "pygments_lexer": "ipython3",
   "version": "3.7.0"
  }
 },
 "nbformat": 4,
 "nbformat_minor": 2
}
